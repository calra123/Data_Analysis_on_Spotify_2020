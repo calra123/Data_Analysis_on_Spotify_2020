{
 "cells": [
  {
   "cell_type": "code",
   "execution_count": 322,
   "metadata": {},
   "outputs": [],
   "source": [
    "import pandas as pd\n",
    "import numpy as np\n",
    "import torch\n",
    "import torch.nn as nn\n",
    "import sklearn\n",
    "from sklearn.model_selection import train_test_split\n",
    "from torch.utils.data import Dataset, DataLoader\n",
    "import matplotlib.pyplot as plt\n",
    "import seaborn as sns\n",
    "\n",
    "torch.manual_seed(1)\n",
    "np.random.seed(1)"
   ]
  },
  {
   "cell_type": "markdown",
   "metadata": {},
   "source": [
    "## Data Overview"
   ]
  },
  {
   "cell_type": "code",
   "execution_count": 323,
   "metadata": {},
   "outputs": [
    {
     "name": "stdout",
     "output_type": "stream",
     "text": [
      "(232725, 18)\n"
     ]
    },
    {
     "data": {
      "text/html": [
       "<div>\n",
       "<style scoped>\n",
       "    .dataframe tbody tr th:only-of-type {\n",
       "        vertical-align: middle;\n",
       "    }\n",
       "\n",
       "    .dataframe tbody tr th {\n",
       "        vertical-align: top;\n",
       "    }\n",
       "\n",
       "    .dataframe thead th {\n",
       "        text-align: right;\n",
       "    }\n",
       "</style>\n",
       "<table border=\"1\" class=\"dataframe\">\n",
       "  <thead>\n",
       "    <tr style=\"text-align: right;\">\n",
       "      <th></th>\n",
       "      <th>genre</th>\n",
       "      <th>artist_name</th>\n",
       "      <th>track_name</th>\n",
       "      <th>track_id</th>\n",
       "      <th>popularity</th>\n",
       "      <th>acousticness</th>\n",
       "      <th>danceability</th>\n",
       "      <th>duration_ms</th>\n",
       "      <th>energy</th>\n",
       "      <th>instrumentalness</th>\n",
       "      <th>key</th>\n",
       "      <th>liveness</th>\n",
       "      <th>loudness</th>\n",
       "      <th>mode</th>\n",
       "      <th>speechiness</th>\n",
       "      <th>tempo</th>\n",
       "      <th>time_signature</th>\n",
       "      <th>valence</th>\n",
       "    </tr>\n",
       "  </thead>\n",
       "  <tbody>\n",
       "    <tr>\n",
       "      <th>166804</th>\n",
       "      <td>Rock</td>\n",
       "      <td>David Bowie</td>\n",
       "      <td>Starman - 2012 Remastered Version</td>\n",
       "      <td>0pQskrTITgmCMyr85tb9qq</td>\n",
       "      <td>74</td>\n",
       "      <td>0.166000</td>\n",
       "      <td>0.486</td>\n",
       "      <td>254293</td>\n",
       "      <td>0.4500</td>\n",
       "      <td>0.000002</td>\n",
       "      <td>F</td>\n",
       "      <td>0.5400</td>\n",
       "      <td>-10.298</td>\n",
       "      <td>Major</td>\n",
       "      <td>0.0267</td>\n",
       "      <td>100.456</td>\n",
       "      <td>4/4</td>\n",
       "      <td>0.5500</td>\n",
       "    </tr>\n",
       "    <tr>\n",
       "      <th>187633</th>\n",
       "      <td>Ska</td>\n",
       "      <td>Panteon Rococo</td>\n",
       "      <td>Perdón</td>\n",
       "      <td>0DOlaVxCIgxFXhq4TFJBmr</td>\n",
       "      <td>29</td>\n",
       "      <td>0.226000</td>\n",
       "      <td>0.672</td>\n",
       "      <td>338267</td>\n",
       "      <td>0.4460</td>\n",
       "      <td>0.001490</td>\n",
       "      <td>C</td>\n",
       "      <td>0.1130</td>\n",
       "      <td>-14.094</td>\n",
       "      <td>Major</td>\n",
       "      <td>0.0471</td>\n",
       "      <td>111.574</td>\n",
       "      <td>4/4</td>\n",
       "      <td>0.7510</td>\n",
       "    </tr>\n",
       "    <tr>\n",
       "      <th>79839</th>\n",
       "      <td>Opera</td>\n",
       "      <td>Giacomo Puccini</td>\n",
       "      <td>Puccini: La bohème, Act 1: \"Sì. Mi chiamano Mi...</td>\n",
       "      <td>4tHFwiwI62Wa6xgquB4t2G</td>\n",
       "      <td>17</td>\n",
       "      <td>0.987000</td>\n",
       "      <td>0.228</td>\n",
       "      <td>289107</td>\n",
       "      <td>0.0475</td>\n",
       "      <td>0.001230</td>\n",
       "      <td>D</td>\n",
       "      <td>0.1260</td>\n",
       "      <td>-18.715</td>\n",
       "      <td>Major</td>\n",
       "      <td>0.0457</td>\n",
       "      <td>90.908</td>\n",
       "      <td>3/4</td>\n",
       "      <td>0.0556</td>\n",
       "    </tr>\n",
       "    <tr>\n",
       "      <th>98763</th>\n",
       "      <td>Children’s Music</td>\n",
       "      <td>Hot Mulligan</td>\n",
       "      <td>How Do You Know It’s Not Armadillo Shells?</td>\n",
       "      <td>019CBVYnVKnSZVHNRnjqkx</td>\n",
       "      <td>48</td>\n",
       "      <td>0.035400</td>\n",
       "      <td>0.691</td>\n",
       "      <td>163509</td>\n",
       "      <td>0.6410</td>\n",
       "      <td>0.000034</td>\n",
       "      <td>C#</td>\n",
       "      <td>0.0989</td>\n",
       "      <td>-6.947</td>\n",
       "      <td>Major</td>\n",
       "      <td>0.0309</td>\n",
       "      <td>103.975</td>\n",
       "      <td>4/4</td>\n",
       "      <td>0.4220</td>\n",
       "    </tr>\n",
       "    <tr>\n",
       "      <th>188563</th>\n",
       "      <td>Ska</td>\n",
       "      <td>Strung Out</td>\n",
       "      <td>A War Called Home</td>\n",
       "      <td>4zuVHTYCBbS8SmTv5qsX9V</td>\n",
       "      <td>24</td>\n",
       "      <td>0.000037</td>\n",
       "      <td>0.330</td>\n",
       "      <td>200800</td>\n",
       "      <td>0.9890</td>\n",
       "      <td>0.247000</td>\n",
       "      <td>A</td>\n",
       "      <td>0.1540</td>\n",
       "      <td>-3.270</td>\n",
       "      <td>Major</td>\n",
       "      <td>0.1060</td>\n",
       "      <td>168.020</td>\n",
       "      <td>4/4</td>\n",
       "      <td>0.2830</td>\n",
       "    </tr>\n",
       "  </tbody>\n",
       "</table>\n",
       "</div>"
      ],
      "text/plain": [
       "                   genre      artist_name  \\\n",
       "166804              Rock      David Bowie   \n",
       "187633               Ska   Panteon Rococo   \n",
       "79839              Opera  Giacomo Puccini   \n",
       "98763   Children’s Music     Hot Mulligan   \n",
       "188563               Ska       Strung Out   \n",
       "\n",
       "                                               track_name  \\\n",
       "166804                  Starman - 2012 Remastered Version   \n",
       "187633                                             Perdón   \n",
       "79839   Puccini: La bohème, Act 1: \"Sì. Mi chiamano Mi...   \n",
       "98763          How Do You Know It’s Not Armadillo Shells?   \n",
       "188563                                  A War Called Home   \n",
       "\n",
       "                      track_id  popularity  acousticness  danceability  \\\n",
       "166804  0pQskrTITgmCMyr85tb9qq          74      0.166000         0.486   \n",
       "187633  0DOlaVxCIgxFXhq4TFJBmr          29      0.226000         0.672   \n",
       "79839   4tHFwiwI62Wa6xgquB4t2G          17      0.987000         0.228   \n",
       "98763   019CBVYnVKnSZVHNRnjqkx          48      0.035400         0.691   \n",
       "188563  4zuVHTYCBbS8SmTv5qsX9V          24      0.000037         0.330   \n",
       "\n",
       "        duration_ms  energy  instrumentalness key  liveness  loudness   mode  \\\n",
       "166804       254293  0.4500          0.000002   F    0.5400   -10.298  Major   \n",
       "187633       338267  0.4460          0.001490   C    0.1130   -14.094  Major   \n",
       "79839        289107  0.0475          0.001230   D    0.1260   -18.715  Major   \n",
       "98763        163509  0.6410          0.000034  C#    0.0989    -6.947  Major   \n",
       "188563       200800  0.9890          0.247000   A    0.1540    -3.270  Major   \n",
       "\n",
       "        speechiness    tempo time_signature  valence  \n",
       "166804       0.0267  100.456            4/4   0.5500  \n",
       "187633       0.0471  111.574            4/4   0.7510  \n",
       "79839        0.0457   90.908            3/4   0.0556  \n",
       "98763        0.0309  103.975            4/4   0.4220  \n",
       "188563       0.1060  168.020            4/4   0.2830  "
      ]
     },
     "execution_count": 323,
     "metadata": {},
     "output_type": "execute_result"
    }
   ],
   "source": [
    "df = pd.read_csv(\"SpotifyFeatures.csv\")\n",
    "df = df.sample(df.shape[0])\n",
    "print(df.shape)\n",
    "df.head(5)"
   ]
  },
  {
   "cell_type": "code",
   "execution_count": 324,
   "metadata": {},
   "outputs": [
    {
     "data": {
      "text/plain": [
       "genre               False\n",
       "artist_name         False\n",
       "track_name          False\n",
       "track_id            False\n",
       "popularity          False\n",
       "acousticness        False\n",
       "danceability        False\n",
       "duration_ms         False\n",
       "energy              False\n",
       "instrumentalness    False\n",
       "key                 False\n",
       "liveness            False\n",
       "loudness            False\n",
       "mode                False\n",
       "speechiness         False\n",
       "tempo               False\n",
       "time_signature      False\n",
       "valence             False\n",
       "dtype: bool"
      ]
     },
     "execution_count": 324,
     "metadata": {},
     "output_type": "execute_result"
    }
   ],
   "source": [
    "df.isnull().any()"
   ]
  },
  {
   "cell_type": "code",
   "execution_count": 170,
   "metadata": {},
   "outputs": [
    {
     "name": "stdout",
     "output_type": "stream",
     "text": [
      "(232725,)\n",
      "(176774,)\n"
     ]
    }
   ],
   "source": [
    "print(df[\"track_id\"].shape)\n",
    "print(df[\"track_id\"].drop_duplicates().shape)"
   ]
  },
  {
   "cell_type": "code",
   "execution_count": 172,
   "metadata": {},
   "outputs": [
    {
     "name": "stdout",
     "output_type": "stream",
     "text": [
      "(176774, 18)\n"
     ]
    }
   ],
   "source": [
    "df = df.drop_duplicates(\"track_id\")\n",
    "print(df.shape)"
   ]
  },
  {
   "cell_type": "code",
   "execution_count": 173,
   "metadata": {},
   "outputs": [
    {
     "name": "stderr",
     "output_type": "stream",
     "text": [
      "/home/cs582/anaconda3/envs/py36/lib/python3.6/site-packages/seaborn/_decorators.py:43: FutureWarning: Pass the following variables as keyword args: x, y. From version 0.12, the only valid positional argument will be `data`, and passing other arguments without an explicit keyword will result in an error or misinterpretation.\n",
      "  FutureWarning\n"
     ]
    },
    {
     "data": {
      "text/plain": [
       "<matplotlib.axes._subplots.AxesSubplot at 0x7f0f01712d30>"
      ]
     },
     "execution_count": 173,
     "metadata": {},
     "output_type": "execute_result"
    },
    {
     "data": {
      "image/png": "[encoded data removed]",
      "text/plain": [
       "<Figure size 1080x504 with 1 Axes>"
      ]
     },
     "metadata": {
      "needs_background": "light"
     },
     "output_type": "display_data"
    }
   ],
   "source": [
    "val_counts = df[\"genre\"].value_counts()\n",
    "x = val_counts\n",
    "y = val_counts.index\n",
    "\n",
    "figure = plt.figure(figsize = (15, 7))\n",
    "plt.title(\"number of tracks per song\")\n",
    "sns.barplot(x, y)"
   ]
  },
  {
   "cell_type": "code",
   "execution_count": 174,
   "metadata": {},
   "outputs": [
    {
     "data": {
      "text/html": [
       "<div>\n",
       "<style scoped>\n",
       "    .dataframe tbody tr th:only-of-type {\n",
       "        vertical-align: middle;\n",
       "    }\n",
       "\n",
       "    .dataframe tbody tr th {\n",
       "        vertical-align: top;\n",
       "    }\n",
       "\n",
       "    .dataframe thead th {\n",
       "        text-align: right;\n",
       "    }\n",
       "</style>\n",
       "<table border=\"1\" class=\"dataframe\">\n",
       "  <thead>\n",
       "    <tr style=\"text-align: right;\">\n",
       "      <th></th>\n",
       "      <th>acousticness</th>\n",
       "      <th>danceability</th>\n",
       "      <th>energy</th>\n",
       "      <th>instrumentalness</th>\n",
       "      <th>liveness</th>\n",
       "      <th>loudness</th>\n",
       "      <th>speechiness</th>\n",
       "      <th>valence</th>\n",
       "      <th>tempo</th>\n",
       "      <th>key</th>\n",
       "      <th>time_signature</th>\n",
       "      <th>genre</th>\n",
       "    </tr>\n",
       "  </thead>\n",
       "  <tbody>\n",
       "    <tr>\n",
       "      <th>166804</th>\n",
       "      <td>0.166000</td>\n",
       "      <td>0.486</td>\n",
       "      <td>0.4500</td>\n",
       "      <td>0.000002</td>\n",
       "      <td>0.5400</td>\n",
       "      <td>-10.298</td>\n",
       "      <td>0.0267</td>\n",
       "      <td>0.5500</td>\n",
       "      <td>100.456</td>\n",
       "      <td>F</td>\n",
       "      <td>4/4</td>\n",
       "      <td>Rock</td>\n",
       "    </tr>\n",
       "    <tr>\n",
       "      <th>187633</th>\n",
       "      <td>0.226000</td>\n",
       "      <td>0.672</td>\n",
       "      <td>0.4460</td>\n",
       "      <td>0.001490</td>\n",
       "      <td>0.1130</td>\n",
       "      <td>-14.094</td>\n",
       "      <td>0.0471</td>\n",
       "      <td>0.7510</td>\n",
       "      <td>111.574</td>\n",
       "      <td>C</td>\n",
       "      <td>4/4</td>\n",
       "      <td>Ska</td>\n",
       "    </tr>\n",
       "    <tr>\n",
       "      <th>79839</th>\n",
       "      <td>0.987000</td>\n",
       "      <td>0.228</td>\n",
       "      <td>0.0475</td>\n",
       "      <td>0.001230</td>\n",
       "      <td>0.1260</td>\n",
       "      <td>-18.715</td>\n",
       "      <td>0.0457</td>\n",
       "      <td>0.0556</td>\n",
       "      <td>90.908</td>\n",
       "      <td>D</td>\n",
       "      <td>3/4</td>\n",
       "      <td>Opera</td>\n",
       "    </tr>\n",
       "    <tr>\n",
       "      <th>98763</th>\n",
       "      <td>0.035400</td>\n",
       "      <td>0.691</td>\n",
       "      <td>0.6410</td>\n",
       "      <td>0.000034</td>\n",
       "      <td>0.0989</td>\n",
       "      <td>-6.947</td>\n",
       "      <td>0.0309</td>\n",
       "      <td>0.4220</td>\n",
       "      <td>103.975</td>\n",
       "      <td>C#</td>\n",
       "      <td>4/4</td>\n",
       "      <td>Children’s Music</td>\n",
       "    </tr>\n",
       "    <tr>\n",
       "      <th>188563</th>\n",
       "      <td>0.000037</td>\n",
       "      <td>0.330</td>\n",
       "      <td>0.9890</td>\n",
       "      <td>0.247000</td>\n",
       "      <td>0.1540</td>\n",
       "      <td>-3.270</td>\n",
       "      <td>0.1060</td>\n",
       "      <td>0.2830</td>\n",
       "      <td>168.020</td>\n",
       "      <td>A</td>\n",
       "      <td>4/4</td>\n",
       "      <td>Ska</td>\n",
       "    </tr>\n",
       "  </tbody>\n",
       "</table>\n",
       "</div>"
      ],
      "text/plain": [
       "        acousticness  danceability  energy  instrumentalness  liveness  \\\n",
       "166804      0.166000         0.486  0.4500          0.000002    0.5400   \n",
       "187633      0.226000         0.672  0.4460          0.001490    0.1130   \n",
       "79839       0.987000         0.228  0.0475          0.001230    0.1260   \n",
       "98763       0.035400         0.691  0.6410          0.000034    0.0989   \n",
       "188563      0.000037         0.330  0.9890          0.247000    0.1540   \n",
       "\n",
       "        loudness  speechiness  valence    tempo key time_signature  \\\n",
       "166804   -10.298       0.0267   0.5500  100.456   F            4/4   \n",
       "187633   -14.094       0.0471   0.7510  111.574   C            4/4   \n",
       "79839    -18.715       0.0457   0.0556   90.908   D            3/4   \n",
       "98763     -6.947       0.0309   0.4220  103.975  C#            4/4   \n",
       "188563    -3.270       0.1060   0.2830  168.020   A            4/4   \n",
       "\n",
       "                   genre  \n",
       "166804              Rock  \n",
       "187633               Ska  \n",
       "79839              Opera  \n",
       "98763   Children’s Music  \n",
       "188563               Ska  "
      ]
     },
     "execution_count": 174,
     "metadata": {},
     "output_type": "execute_result"
    }
   ],
   "source": [
    "columns = [\n",
    "    \"acousticness\",\n",
    "    \"danceability\",\n",
    "    \"energy\",\n",
    "    \"instrumentalness\",\n",
    "    \"liveness\",\n",
    "    \"loudness\",\n",
    "    \"speechiness\",\n",
    "    \"valence\",\n",
    "    \"tempo\",\n",
    "    \"key\",\n",
    "    \"time_signature\",\n",
    "    \"genre\"\n",
    "          ]\n",
    "\n",
    "df_selected = df[columns][df[\"genre\"] != \"A Capella\"]\n",
    "df_selected.head()"
   ]
  },
  {
   "cell_type": "markdown",
   "metadata": {},
   "source": [
    "## Label Keys"
   ]
  },
  {
   "cell_type": "code",
   "execution_count": 175,
   "metadata": {},
   "outputs": [
    {
     "name": "stdout",
     "output_type": "stream",
     "text": [
      "(12, 2)\n"
     ]
    },
    {
     "data": {
      "text/html": [
       "<div>\n",
       "<style scoped>\n",
       "    .dataframe tbody tr th:only-of-type {\n",
       "        vertical-align: middle;\n",
       "    }\n",
       "\n",
       "    .dataframe tbody tr th {\n",
       "        vertical-align: top;\n",
       "    }\n",
       "\n",
       "    .dataframe thead th {\n",
       "        text-align: right;\n",
       "    }\n",
       "</style>\n",
       "<table border=\"1\" class=\"dataframe\">\n",
       "  <thead>\n",
       "    <tr style=\"text-align: right;\">\n",
       "      <th></th>\n",
       "      <th>key</th>\n",
       "      <th>label_key</th>\n",
       "    </tr>\n",
       "  </thead>\n",
       "  <tbody>\n",
       "    <tr>\n",
       "      <th>0</th>\n",
       "      <td>F</td>\n",
       "      <td>0</td>\n",
       "    </tr>\n",
       "    <tr>\n",
       "      <th>1</th>\n",
       "      <td>C</td>\n",
       "      <td>1</td>\n",
       "    </tr>\n",
       "    <tr>\n",
       "      <th>2</th>\n",
       "      <td>D</td>\n",
       "      <td>2</td>\n",
       "    </tr>\n",
       "    <tr>\n",
       "      <th>3</th>\n",
       "      <td>C#</td>\n",
       "      <td>3</td>\n",
       "    </tr>\n",
       "    <tr>\n",
       "      <th>4</th>\n",
       "      <td>A</td>\n",
       "      <td>4</td>\n",
       "    </tr>\n",
       "    <tr>\n",
       "      <th>5</th>\n",
       "      <td>D#</td>\n",
       "      <td>5</td>\n",
       "    </tr>\n",
       "    <tr>\n",
       "      <th>6</th>\n",
       "      <td>E</td>\n",
       "      <td>6</td>\n",
       "    </tr>\n",
       "    <tr>\n",
       "      <th>7</th>\n",
       "      <td>F#</td>\n",
       "      <td>7</td>\n",
       "    </tr>\n",
       "    <tr>\n",
       "      <th>8</th>\n",
       "      <td>G#</td>\n",
       "      <td>8</td>\n",
       "    </tr>\n",
       "    <tr>\n",
       "      <th>9</th>\n",
       "      <td>B</td>\n",
       "      <td>9</td>\n",
       "    </tr>\n",
       "  </tbody>\n",
       "</table>\n",
       "</div>"
      ],
      "text/plain": [
       "  key  label_key\n",
       "0   F          0\n",
       "1   C          1\n",
       "2   D          2\n",
       "3  C#          3\n",
       "4   A          4\n",
       "5  D#          5\n",
       "6   E          6\n",
       "7  F#          7\n",
       "8  G#          8\n",
       "9   B          9"
      ]
     },
     "execution_count": 175,
     "metadata": {},
     "output_type": "execute_result"
    }
   ],
   "source": [
    "music_key = df_selected[\"key\"].drop_duplicates()\n",
    "df_key = pd.DataFrame(music_key)\n",
    "df_key[\"label_key\"] = np.arange(df_key.shape[0])\n",
    "df_key = df_key.reset_index()[[\"key\", \"label_key\"]]\n",
    "print(df_key.shape)\n",
    "df_key.head(10)"
   ]
  },
  {
   "cell_type": "markdown",
   "metadata": {},
   "source": [
    "## Tabel time signature"
   ]
  },
  {
   "cell_type": "code",
   "execution_count": 176,
   "metadata": {},
   "outputs": [
    {
     "name": "stdout",
     "output_type": "stream",
     "text": [
      "(5, 2)\n"
     ]
    },
    {
     "data": {
      "text/html": [
       "<div>\n",
       "<style scoped>\n",
       "    .dataframe tbody tr th:only-of-type {\n",
       "        vertical-align: middle;\n",
       "    }\n",
       "\n",
       "    .dataframe tbody tr th {\n",
       "        vertical-align: top;\n",
       "    }\n",
       "\n",
       "    .dataframe thead th {\n",
       "        text-align: right;\n",
       "    }\n",
       "</style>\n",
       "<table border=\"1\" class=\"dataframe\">\n",
       "  <thead>\n",
       "    <tr style=\"text-align: right;\">\n",
       "      <th></th>\n",
       "      <th>time_signature</th>\n",
       "      <th>time_sig_label</th>\n",
       "    </tr>\n",
       "  </thead>\n",
       "  <tbody>\n",
       "    <tr>\n",
       "      <th>0</th>\n",
       "      <td>4/4</td>\n",
       "      <td>0</td>\n",
       "    </tr>\n",
       "    <tr>\n",
       "      <th>1</th>\n",
       "      <td>3/4</td>\n",
       "      <td>1</td>\n",
       "    </tr>\n",
       "    <tr>\n",
       "      <th>2</th>\n",
       "      <td>1/4</td>\n",
       "      <td>2</td>\n",
       "    </tr>\n",
       "    <tr>\n",
       "      <th>3</th>\n",
       "      <td>5/4</td>\n",
       "      <td>3</td>\n",
       "    </tr>\n",
       "    <tr>\n",
       "      <th>4</th>\n",
       "      <td>0/4</td>\n",
       "      <td>4</td>\n",
       "    </tr>\n",
       "  </tbody>\n",
       "</table>\n",
       "</div>"
      ],
      "text/plain": [
       "  time_signature  time_sig_label\n",
       "0            4/4               0\n",
       "1            3/4               1\n",
       "2            1/4               2\n",
       "3            5/4               3\n",
       "4            0/4               4"
      ]
     },
     "execution_count": 176,
     "metadata": {},
     "output_type": "execute_result"
    }
   ],
   "source": [
    "time_sig = df_selected[\"time_signature\"].drop_duplicates()\n",
    "df_time = pd.DataFrame(time_sig)\n",
    "df_time[\"time_sig_label\"] = np.arange(df_time.shape[0])\n",
    "df_time = df_time.reset_index()[[\"time_signature\", \"time_sig_label\"]]\n",
    "print(df_time.shape)\n",
    "df_time.head(5)"
   ]
  },
  {
   "cell_type": "markdown",
   "metadata": {},
   "source": [
    "## Label genre"
   ]
  },
  {
   "cell_type": "code",
   "execution_count": 177,
   "metadata": {},
   "outputs": [
    {
     "name": "stdout",
     "output_type": "stream",
     "text": [
      "(26, 2)\n"
     ]
    },
    {
     "data": {
      "text/html": [
       "<div>\n",
       "<style scoped>\n",
       "    .dataframe tbody tr th:only-of-type {\n",
       "        vertical-align: middle;\n",
       "    }\n",
       "\n",
       "    .dataframe tbody tr th {\n",
       "        vertical-align: top;\n",
       "    }\n",
       "\n",
       "    .dataframe thead th {\n",
       "        text-align: right;\n",
       "    }\n",
       "</style>\n",
       "<table border=\"1\" class=\"dataframe\">\n",
       "  <thead>\n",
       "    <tr style=\"text-align: right;\">\n",
       "      <th></th>\n",
       "      <th>genre</th>\n",
       "      <th>label_genre</th>\n",
       "    </tr>\n",
       "  </thead>\n",
       "  <tbody>\n",
       "    <tr>\n",
       "      <th>0</th>\n",
       "      <td>Rock</td>\n",
       "      <td>0</td>\n",
       "    </tr>\n",
       "    <tr>\n",
       "      <th>1</th>\n",
       "      <td>Ska</td>\n",
       "      <td>1</td>\n",
       "    </tr>\n",
       "    <tr>\n",
       "      <th>2</th>\n",
       "      <td>Opera</td>\n",
       "      <td>2</td>\n",
       "    </tr>\n",
       "    <tr>\n",
       "      <th>3</th>\n",
       "      <td>Children’s Music</td>\n",
       "      <td>3</td>\n",
       "    </tr>\n",
       "    <tr>\n",
       "      <th>4</th>\n",
       "      <td>Indie</td>\n",
       "      <td>4</td>\n",
       "    </tr>\n",
       "  </tbody>\n",
       "</table>\n",
       "</div>"
      ],
      "text/plain": [
       "              genre  label_genre\n",
       "0              Rock            0\n",
       "1               Ska            1\n",
       "2             Opera            2\n",
       "3  Children’s Music            3\n",
       "4             Indie            4"
      ]
     },
     "execution_count": 177,
     "metadata": {},
     "output_type": "execute_result"
    }
   ],
   "source": [
    "genres = df_selected[\"genre\"].drop_duplicates()\n",
    "df_genres = pd.DataFrame(genres)\n",
    "df_genres[\"label_genre\"] = np.arange(df_genres.shape[0])\n",
    "df_genres = df_genres.reset_index()[[\"genre\", \"label_genre\"]]\n",
    "print(df_genres.shape)\n",
    "df_genres.head(5)"
   ]
  },
  {
   "cell_type": "code",
   "execution_count": 178,
   "metadata": {},
   "outputs": [
    {
     "name": "stdout",
     "output_type": "stream",
     "text": [
      "(176655, 15)\n"
     ]
    },
    {
     "data": {
      "text/html": [
       "<div>\n",
       "<style scoped>\n",
       "    .dataframe tbody tr th:only-of-type {\n",
       "        vertical-align: middle;\n",
       "    }\n",
       "\n",
       "    .dataframe tbody tr th {\n",
       "        vertical-align: top;\n",
       "    }\n",
       "\n",
       "    .dataframe thead th {\n",
       "        text-align: right;\n",
       "    }\n",
       "</style>\n",
       "<table border=\"1\" class=\"dataframe\">\n",
       "  <thead>\n",
       "    <tr style=\"text-align: right;\">\n",
       "      <th></th>\n",
       "      <th>acousticness</th>\n",
       "      <th>danceability</th>\n",
       "      <th>energy</th>\n",
       "      <th>instrumentalness</th>\n",
       "      <th>liveness</th>\n",
       "      <th>loudness</th>\n",
       "      <th>speechiness</th>\n",
       "      <th>valence</th>\n",
       "      <th>tempo</th>\n",
       "      <th>key</th>\n",
       "      <th>time_signature</th>\n",
       "      <th>genre</th>\n",
       "      <th>label_genre</th>\n",
       "      <th>label_key</th>\n",
       "      <th>time_sig_label</th>\n",
       "    </tr>\n",
       "  </thead>\n",
       "  <tbody>\n",
       "    <tr>\n",
       "      <th>0</th>\n",
       "      <td>0.166000</td>\n",
       "      <td>0.486</td>\n",
       "      <td>0.4500</td>\n",
       "      <td>0.000002</td>\n",
       "      <td>0.5400</td>\n",
       "      <td>-10.298</td>\n",
       "      <td>0.0267</td>\n",
       "      <td>0.5500</td>\n",
       "      <td>100.456</td>\n",
       "      <td>F</td>\n",
       "      <td>4/4</td>\n",
       "      <td>Rock</td>\n",
       "      <td>0</td>\n",
       "      <td>0</td>\n",
       "      <td>0</td>\n",
       "    </tr>\n",
       "    <tr>\n",
       "      <th>1</th>\n",
       "      <td>0.226000</td>\n",
       "      <td>0.672</td>\n",
       "      <td>0.4460</td>\n",
       "      <td>0.001490</td>\n",
       "      <td>0.1130</td>\n",
       "      <td>-14.094</td>\n",
       "      <td>0.0471</td>\n",
       "      <td>0.7510</td>\n",
       "      <td>111.574</td>\n",
       "      <td>C</td>\n",
       "      <td>4/4</td>\n",
       "      <td>Ska</td>\n",
       "      <td>1</td>\n",
       "      <td>1</td>\n",
       "      <td>0</td>\n",
       "    </tr>\n",
       "    <tr>\n",
       "      <th>2</th>\n",
       "      <td>0.987000</td>\n",
       "      <td>0.228</td>\n",
       "      <td>0.0475</td>\n",
       "      <td>0.001230</td>\n",
       "      <td>0.1260</td>\n",
       "      <td>-18.715</td>\n",
       "      <td>0.0457</td>\n",
       "      <td>0.0556</td>\n",
       "      <td>90.908</td>\n",
       "      <td>D</td>\n",
       "      <td>3/4</td>\n",
       "      <td>Opera</td>\n",
       "      <td>2</td>\n",
       "      <td>2</td>\n",
       "      <td>1</td>\n",
       "    </tr>\n",
       "    <tr>\n",
       "      <th>3</th>\n",
       "      <td>0.035400</td>\n",
       "      <td>0.691</td>\n",
       "      <td>0.6410</td>\n",
       "      <td>0.000034</td>\n",
       "      <td>0.0989</td>\n",
       "      <td>-6.947</td>\n",
       "      <td>0.0309</td>\n",
       "      <td>0.4220</td>\n",
       "      <td>103.975</td>\n",
       "      <td>C#</td>\n",
       "      <td>4/4</td>\n",
       "      <td>Children’s Music</td>\n",
       "      <td>3</td>\n",
       "      <td>3</td>\n",
       "      <td>0</td>\n",
       "    </tr>\n",
       "    <tr>\n",
       "      <th>4</th>\n",
       "      <td>0.000037</td>\n",
       "      <td>0.330</td>\n",
       "      <td>0.9890</td>\n",
       "      <td>0.247000</td>\n",
       "      <td>0.1540</td>\n",
       "      <td>-3.270</td>\n",
       "      <td>0.1060</td>\n",
       "      <td>0.2830</td>\n",
       "      <td>168.020</td>\n",
       "      <td>A</td>\n",
       "      <td>4/4</td>\n",
       "      <td>Ska</td>\n",
       "      <td>1</td>\n",
       "      <td>4</td>\n",
       "      <td>0</td>\n",
       "    </tr>\n",
       "  </tbody>\n",
       "</table>\n",
       "</div>"
      ],
      "text/plain": [
       "   acousticness  danceability  energy  instrumentalness  liveness  loudness  \\\n",
       "0      0.166000         0.486  0.4500          0.000002    0.5400   -10.298   \n",
       "1      0.226000         0.672  0.4460          0.001490    0.1130   -14.094   \n",
       "2      0.987000         0.228  0.0475          0.001230    0.1260   -18.715   \n",
       "3      0.035400         0.691  0.6410          0.000034    0.0989    -6.947   \n",
       "4      0.000037         0.330  0.9890          0.247000    0.1540    -3.270   \n",
       "\n",
       "   speechiness  valence    tempo key time_signature             genre  \\\n",
       "0       0.0267   0.5500  100.456   F            4/4              Rock   \n",
       "1       0.0471   0.7510  111.574   C            4/4               Ska   \n",
       "2       0.0457   0.0556   90.908   D            3/4             Opera   \n",
       "3       0.0309   0.4220  103.975  C#            4/4  Children’s Music   \n",
       "4       0.1060   0.2830  168.020   A            4/4               Ska   \n",
       "\n",
       "   label_genre  label_key  time_sig_label  \n",
       "0            0          0               0  \n",
       "1            1          1               0  \n",
       "2            2          2               1  \n",
       "3            3          3               0  \n",
       "4            1          4               0  "
      ]
     },
     "execution_count": 178,
     "metadata": {},
     "output_type": "execute_result"
    }
   ],
   "source": [
    "df_cleaned = df_selected.merge(df_genres, how = \"left\", left_on = \"genre\", right_on = \"genre\")\n",
    "df_cleaned = df_cleaned.merge(df_key, how = \"left\", left_on = \"key\", right_on = \"key\")\n",
    "df_cleaned = df_cleaned.merge(df_time, how = \"left\", left_on = \"time_signature\", right_on = \"time_signature\")\n",
    "print(df_cleaned.shape)\n",
    "df_cleaned.head(5)"
   ]
  },
  {
   "cell_type": "code",
   "execution_count": 179,
   "metadata": {},
   "outputs": [
    {
     "name": "stdout",
     "output_type": "stream",
     "text": [
      "(176655, 8) (176655,)\n"
     ]
    },
    {
     "data": {
      "text/plain": [
       "array([[ 1.6600e-01,  4.8600e-01,  4.5000e-01,  2.0600e-06,  5.4000e-01,\n",
       "        -1.0298e+01,  2.6700e-02,  5.5000e-01],\n",
       "       [ 2.2600e-01,  6.7200e-01,  4.4600e-01,  1.4900e-03,  1.1300e-01,\n",
       "        -1.4094e+01,  4.7100e-02,  7.5100e-01],\n",
       "       [ 9.8700e-01,  2.2800e-01,  4.7500e-02,  1.2300e-03,  1.2600e-01,\n",
       "        -1.8715e+01,  4.5700e-02,  5.5600e-02],\n",
       "       [ 3.5400e-02,  6.9100e-01,  6.4100e-01,  3.3600e-05,  9.8900e-02,\n",
       "        -6.9470e+00,  3.0900e-02,  4.2200e-01],\n",
       "       [ 3.6800e-05,  3.3000e-01,  9.8900e-01,  2.4700e-01,  1.5400e-01,\n",
       "        -3.2700e+00,  1.0600e-01,  2.8300e-01]])"
      ]
     },
     "execution_count": 179,
     "metadata": {},
     "output_type": "execute_result"
    }
   ],
   "source": [
    "parameters = [\n",
    "        \"acousticness\",\n",
    "        \"danceability\",\n",
    "        \"energy\",\n",
    "        \"instrumentalness\",\n",
    "        \"liveness\",\n",
    "        \"loudness\",\n",
    "        \"speechiness\",\n",
    "        \"valence\",\n",
    "            ]\n",
    "X = np.asanyarray(df_cleaned[parameters])\n",
    "y = np.asanyarray(df_cleaned[\"label_genre\"])\n",
    "print(X.shape, y.shape)\n",
    "X[:5, :]"
   ]
  },
  {
   "cell_type": "code",
   "execution_count": 180,
   "metadata": {},
   "outputs": [
    {
     "data": {
      "text/plain": [
       "26"
      ]
     },
     "execution_count": 180,
     "metadata": {},
     "output_type": "execute_result"
    }
   ],
   "source": [
    "total_labels = df_cleaned[\"genre\"].drop_duplicates().shape[0]\n",
    "total_labels"
   ]
  },
  {
   "cell_type": "code",
   "execution_count": 181,
   "metadata": {},
   "outputs": [
    {
     "name": "stdout",
     "output_type": "stream",
     "text": [
      "X train shape:  (123658, 8) , y train shape:  (123658,)\n",
      "X test shape:  (52997, 8) , y test shape:  (52997,)\n"
     ]
    }
   ],
   "source": [
    "X_train, X_test, y_train, y_test = train_test_split(X, y, test_size = 0.3, random_state = 42)\n",
    "print(\"X train shape: \", X_train.shape, \", y train shape: \", y_train.shape)\n",
    "print(\"X test shape: \", X_test.shape, \", y test shape: \", y_test.shape)"
   ]
  },
  {
   "cell_type": "code",
   "execution_count": 182,
   "metadata": {},
   "outputs": [
    {
     "name": "stdout",
     "output_type": "stream",
     "text": [
      "X train shape:  torch.Size([123658, 8]) , y train shape:  torch.Size([123658])\n",
      "X test shape:  torch.Size([52997, 8]) , y test shape:  torch.Size([52997])\n"
     ]
    }
   ],
   "source": [
    "X_train_tensor = torch.tensor(X_train).type(torch.FloatTensor)\n",
    "y_train_tensor = torch.tensor(y_train)\n",
    "X_test_tensor = torch.tensor(X_test).type(torch.FloatTensor)\n",
    "y_test_tensor = torch.tensor(y_test)\n",
    "\n",
    "print(\"X train shape: \", X_train_tensor.shape, \", y train shape: \", y_train_tensor.shape)\n",
    "print(\"X test shape: \", X_test_tensor.shape, \", y test shape: \", y_test_tensor.shape)"
   ]
  },
  {
   "cell_type": "code",
   "execution_count": 183,
   "metadata": {},
   "outputs": [],
   "source": [
    "class train_data(Dataset):\n",
    "    def __init__(self):\n",
    "        self.x = X_train_tensor\n",
    "        self.y = y_train_tensor\n",
    "        self.len = X_train_tensor.shape[0]\n",
    "    def __getitem__(self, index):\n",
    "        return self.x[index], self.y[index]\n",
    "    def __len__(self):\n",
    "        return self.len"
   ]
  },
  {
   "cell_type": "code",
   "execution_count": 184,
   "metadata": {},
   "outputs": [],
   "source": [
    "class test_data(Dataset):\n",
    "    def __init__(self):\n",
    "        self.x = X_test_tensor\n",
    "        self.y = y_test_tensor\n",
    "        self.len = X_test_tensor.shape[0]\n",
    "    def __getitem__(self, index):\n",
    "        return self.x[index], self.y[index]\n",
    "    def __len__(self):\n",
    "        return self.len"
   ]
  },
  {
   "cell_type": "code",
   "execution_count": 185,
   "metadata": {},
   "outputs": [],
   "source": [
    "train_dataset = train_data()\n",
    "validation_dataset = test_data()"
   ]
  },
  {
   "cell_type": "code",
   "execution_count": 186,
   "metadata": {},
   "outputs": [],
   "source": [
    "trainloader = DataLoader(dataset = train_dataset, batch_size = 1000)\n",
    "validation = DataLoader(dataset = validation_dataset, batch_size = 10000)"
   ]
  },
  {
   "cell_type": "code",
   "execution_count": 187,
   "metadata": {},
   "outputs": [],
   "source": [
    "def accuracy(model, dataset):\n",
    "    _, y_hat = torch.max(model(dataset.x), 1)\n",
    "    return (y_hat == dataset.y).numpy().mean()"
   ]
  },
  {
   "cell_type": "code",
   "execution_count": 188,
   "metadata": {},
   "outputs": [],
   "source": [
    "class NN_BatchNorm(nn.Module):\n",
    "    def __init__(self, in_size, hidden_size, out_size):\n",
    "        super(NN_BatchNorm, self).__init__()\n",
    "        self.linear1 = nn.Linear(in_size, hidden_size)\n",
    "        self.linear2 = nn.Linear(hidden_size, out_size)\n",
    "        self.bn = nn.BatchNorm1d(hidden_size)\n",
    "\n",
    "    def forward(self, x):\n",
    "        x = self.bn(torch.sigmoid(self.linear1(x)))\n",
    "        x = self.linear2(x)\n",
    "        return x"
   ]
  },
  {
   "cell_type": "code",
   "execution_count": 202,
   "metadata": {},
   "outputs": [],
   "source": [
    "class NN_He(nn.Module):\n",
    "    def __init__(self, in_size, hidden_size, out_size):\n",
    "        super(NN_He, self).__init__()\n",
    "        self.linear1 = nn.Linear(in_size, hidden_size)\n",
    "        torch.nn.init.kaiming_uniform_(self.linear1.weight, nonlinearity = 'relu')\n",
    "        self.linear2 = nn.Linear(hidden_size, out_size)\n",
    "        torch.nn.init.kaiming_uniform_(self.linear2.weight, nonlinearity = 'relu')\n",
    "        self.bn = nn.BatchNorm1d(hidden_size)\n",
    "        \n",
    "    def forward(self, x):\n",
    "        x = self.bn(torch.sigmoid(self.linear1(x)))\n",
    "        x = self.linear2(x)\n",
    "        return x"
   ]
  },
  {
   "cell_type": "code",
   "execution_count": 362,
   "metadata": {},
   "outputs": [],
   "source": [
    "class NN_HeBN(nn.Module):\n",
    "    def __init__(self, in_size, hidden_size1, hidden_size2, hidden_size3, hidden_size4, out_size):\n",
    "        super(NN_HeBN, self).__init__()\n",
    "        self.linear1 = nn.Linear(in_size, hidden_size1)\n",
    "        torch.nn.init.kaiming_uniform_(self.linear1.weight, nonlinearity = 'relu')\n",
    "        self.linear2 = nn.Linear(hidden_size1, hidden_size2)\n",
    "        torch.nn.init.kaiming_uniform_(self.linear2.weight, nonlinearity = 'relu')\n",
    "        self.linear3 = nn.Linear(hidden_size2, hidden_size3)\n",
    "        torch.nn.init.kaiming_uniform_(self.linear3.weight, nonlinearity = 'relu')\n",
    "        self.linear4 = nn.Linear(hidden_size3, hidden_size4)\n",
    "        torch.nn.init.kaiming_uniform_(self.linear4.weight, nonlinearity = 'relu')\n",
    "        self.linear5 = nn.Linear(hidden_size4, out_size)\n",
    "        torch.nn.init.kaiming_uniform_(self.linear5.weight, nonlinearity = 'relu')\n",
    "        self.bn1 = nn.BatchNorm1d(hidden_size1)\n",
    "        self.bn2 = nn.BatchNorm1d(hidden_size2)\n",
    "        self.bn3 = nn.BatchNorm1d(hidden_size3)\n",
    "        self.bn4 = nn.BatchNorm1d(hidden_size4)\n",
    "\n",
    "    def forward(self, x):\n",
    "        x = self.bn1(nn.functional.relu(self.linear1(x)))\n",
    "        x = self.bn2(nn.functional.relu(self.linear2(x)))\n",
    "        x = self.bn3(nn.functional.relu(self.linear3(x)))\n",
    "        x = self.bn4(torch.sigmoid(self.linear4(x)))\n",
    "        x = self.linear5(x)\n",
    "        return x"
   ]
  },
  {
   "cell_type": "code",
   "execution_count": 365,
   "metadata": {},
   "outputs": [],
   "source": [
    "def train(dataset, model, criterion, trainloader, validation, optimizer, epochs = 100):\n",
    "    LOSS = []\n",
    "    ACC = []\n",
    "    percent = epochs // 10\n",
    "    \n",
    "    if epochs > 500:\n",
    "        percent = epochs // 20\n",
    "    \n",
    "    for epoch in range(epochs):\n",
    "        if epochs > 10 and (epoch + 1) % percent == 0:\n",
    "            print(\"training... \", 100 * (epoch + 1) / epochs, \"% completed\")\n",
    "        for x, y in trainloader:\n",
    "            optimizer.zero_grad()\n",
    "            y_hat = model(x)\n",
    "            loss = criterion(y_hat, y)\n",
    "            optimizer.zero_grad()\n",
    "            loss.backward()\n",
    "            optimizer.step()\n",
    "        cost = loss.item()\n",
    "        LOSS.append(cost)\n",
    "        \n",
    "        correct = 0\n",
    "        for x, y in validation:\n",
    "            model.eval()\n",
    "            y_hat = model(x)\n",
    "            _, label = torch.max(y_hat, 1)\n",
    "            correct += (label == y).sum().item()\n",
    "\n",
    "        acc = 100 * (correct / len(validation_dataset))\n",
    "        ACC.append(acc)\n",
    "        if epochs > 10 and (epoch + 1) % percent == 0:\n",
    "            print(\"cost: \", cost, \", accuracy: \", acc)\n",
    "        \n",
    "        \n",
    "    results = {\"Loss\": LOSS, \"Accuracy\": ACC}\n",
    "    fig, ax1 = plt.subplots()\n",
    "    color = \"tab:red\"\n",
    "    ax1.plot(LOSS, color = color)\n",
    "    ax1.set_xlabel('epoch', color = color)\n",
    "    ax1.set_ylabel('total loss', color = color)\n",
    "    ax1.tick_params(axis = 'y', color = color)\n",
    "\n",
    "    ax2 = ax1.twinx()\n",
    "    color = 'tab:blue'\n",
    "    ax2.set_ylabel('accuracy', color = color)\n",
    "    ax2.plot(ACC, color = color)\n",
    "    ax2.tick_params(axis = 'y', color = color)\n",
    "    \n",
    "    plt.show()\n",
    "    \n",
    "    return results"
   ]
  },
  {
   "cell_type": "code",
   "execution_count": 161,
   "metadata": {},
   "outputs": [],
   "source": [
    "lr = 0.0002\n",
    "model_bn = NN_BatchNorm(\n",
    "                    in_size = 9,\n",
    "                    hidden_size = 150,\n",
    "                    out_size = 26\n",
    "                   )\n",
    "optimizer = torch.optim.Adam(model_bn.parameters(), lr = lr)\n",
    "criterion = nn.CrossEntropyLoss()"
   ]
  },
  {
   "cell_type": "code",
   "execution_count": 24,
   "metadata": {
    "scrolled": true
   },
   "outputs": [
    {
     "name": "stdout",
     "output_type": "stream",
     "text": [
      "training...  10.0 % completed\n",
      "training...  20.0 % completed\n",
      "training...  30.0 % completed\n",
      "training...  40.0 % completed\n",
      "training...  50.0 % completed\n",
      "training...  60.0 % completed\n",
      "training...  70.0 % completed\n",
      "training...  80.0 % completed\n",
      "training...  90.0 % completed\n",
      "training...  100.0 % completed\n"
     ]
    },
    {
     "data": {
      "image/png": "[encoded data removed]",
      "text/plain": [
       "<Figure size 432x288 with 2 Axes>"
      ]
     },
     "metadata": {
      "needs_background": "light"
     },
     "output_type": "display_data"
    }
   ],
   "source": [
    "Results_BN = train(train_dataset, model_bn, criterion, trainloader, validation, optimizer, epochs = 100)"
   ]
  },
  {
   "cell_type": "code",
   "execution_count": 203,
   "metadata": {},
   "outputs": [],
   "source": [
    "lr = 0.0002\n",
    "model_he = NN_He(\n",
    "            in_size = 8,\n",
    "            hidden_size = 150,\n",
    "            out_size = 26\n",
    "                )\n",
    "optimizer = torch.optim.Adam(model_he.parameters(), lr = lr)\n",
    "criterion = nn.CrossEntropyLoss()"
   ]
  },
  {
   "cell_type": "code",
   "execution_count": 204,
   "metadata": {},
   "outputs": [
    {
     "name": "stdout",
     "output_type": "stream",
     "text": [
      "training...  10.0 % completed\n",
      "cost:  2.273193120956421 , accuracy:  33.3490574938204\n",
      "training...  20.0 % completed\n",
      "cost:  2.252897262573242 , accuracy:  34.23778704454969\n",
      "training...  30.0 % completed\n",
      "cost:  2.245793104171753 , accuracy:  34.61516689623941\n",
      "training...  40.0 % completed\n",
      "cost:  2.2412829399108887 , accuracy:  34.81140441911806\n",
      "training...  50.0 % completed\n",
      "cost:  2.2375056743621826 , accuracy:  34.943487367209464\n",
      "training...  60.0 % completed\n",
      "cost:  2.2337584495544434 , accuracy:  35.062362020491726\n",
      "training...  70.0 % completed\n",
      "cost:  2.2298481464385986 , accuracy:  35.14161178934657\n",
      "training...  80.0 % completed\n",
      "cost:  2.22580885887146 , accuracy:  35.19633186784157\n",
      "training...  90.0 % completed\n",
      "cost:  2.2217636108398438 , accuracy:  35.25859954337038\n",
      "training...  100.0 % completed\n",
      "cost:  2.2178409099578857 , accuracy:  35.337849312225224\n"
     ]
    },
    {
     "data": {
      "image/png": "[encoded data removed]",
      "text/plain": [
       "<Figure size 432x288 with 2 Axes>"
      ]
     },
     "metadata": {
      "needs_background": "light"
     },
     "output_type": "display_data"
    }
   ],
   "source": [
    "Results_He = train(train_dataset, model_he, criterion, trainloader, validation, optimizer, epochs = 150)"
   ]
  },
  {
   "cell_type": "code",
   "execution_count": 211,
   "metadata": {},
   "outputs": [],
   "source": [
    "lr = 0.0002\n",
    "model_HeBN = NN_HeBN(\n",
    "            in_size = 8,\n",
    "            hidden_size1 = 1000,\n",
    "            hidden_size2 = 500,\n",
    "            hidden_size3 = 250,\n",
    "            hidden_size4 = 100,\n",
    "            out_size = 26\n",
    "                )\n",
    "optimizer = torch.optim.Adam(model_HeBN.parameters(), lr = lr)\n",
    "criterion = nn.CrossEntropyLoss()"
   ]
  },
  {
   "cell_type": "code",
   "execution_count": 212,
   "metadata": {},
   "outputs": [
    {
     "name": "stdout",
     "output_type": "stream",
     "text": [
      "training...  10.0 % completed\n",
      "cost:  2.1812028884887695 , accuracy:  35.885050097175316\n",
      "training...  20.0 % completed\n",
      "cost:  2.130892515182495 , accuracy:  36.28129894144951\n",
      "training...  30.0 % completed\n",
      "cost:  2.0983517169952393 , accuracy:  36.579429024284394\n",
      "training...  40.0 % completed\n",
      "cost:  2.070465564727783 , accuracy:  36.703964375342004\n",
      "training...  50.0 % completed\n",
      "cost:  2.0479061603546143 , accuracy:  36.62471460648716\n",
      "training...  60.0 % completed\n",
      "cost:  2.0293967723846436 , accuracy:  36.51527444949714\n",
      "training...  70.0 % completed\n",
      "cost:  2.010854959487915 , accuracy:  36.59452421835198\n",
      "training...  80.0 % completed\n",
      "cost:  1.9948270320892334 , accuracy:  36.54169103911542\n",
      "training...  90.0 % completed\n",
      "cost:  1.981444239616394 , accuracy:  36.66056569239768\n",
      "training...  100.0 % completed\n",
      "cost:  1.970295786857605 , accuracy:  36.681321584240614\n"
     ]
    },
    {
     "data": {
      "image/png": "[encoded data removed]",
      "text/plain": [
       "<Figure size 432x288 with 2 Axes>"
      ]
     },
     "metadata": {
      "needs_background": "light"
     },
     "output_type": "display_data"
    }
   ],
   "source": [
    "Results_HeBN = train(train_dataset, model_HeBN, criterion, trainloader, validation, optimizer, epochs = 50)"
   ]
  },
  {
   "cell_type": "code",
   "execution_count": null,
   "metadata": {},
   "outputs": [],
   "source": []
  }
 ],
 "metadata": {
  "kernelspec": {
   "display_name": "Python 3",
   "language": "python",
   "name": "python3"
  },
  "language_info": {
   "codemirror_mode": {
    "name": "ipython",
    "version": 3
   },
   "file_extension": ".py",
   "mimetype": "text/x-python",
   "name": "python",
   "nbconvert_exporter": "python",
   "pygments_lexer": "ipython3",
   "version": "3.6.10"
  }
 },
 "nbformat": 4,
 "nbformat_minor": 4
}
