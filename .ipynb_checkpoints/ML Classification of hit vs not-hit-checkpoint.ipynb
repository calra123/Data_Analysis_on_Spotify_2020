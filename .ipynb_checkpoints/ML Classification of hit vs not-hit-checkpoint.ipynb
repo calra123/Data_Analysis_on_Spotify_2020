{
 "cells": [
  {
   "cell_type": "code",
   "execution_count": 1,
   "metadata": {},
   "outputs": [],
   "source": [
    "import pandas as pd\n",
    "import numpy as np\n",
    "import torch\n",
    "import torch.nn as nn\n",
    "import sklearn\n",
    "from sklearn.model_selection import train_test_split\n",
    "from torch.utils.data import Dataset, DataLoader\n",
    "import matplotlib.pyplot as plt\n",
    "import seaborn as sns\n",
    "\n",
    "torch.manual_seed(1)\n",
    "np.random.seed(1)"
   ]
  },
  {
   "cell_type": "code",
   "execution_count": 2,
   "metadata": {},
   "outputs": [
    {
     "name": "stdout",
     "output_type": "stream",
     "text": [
      "(232725, 18)\n"
     ]
    },
    {
     "data": {
      "text/html": [
       "<div>\n",
       "<style scoped>\n",
       "    .dataframe tbody tr th:only-of-type {\n",
       "        vertical-align: middle;\n",
       "    }\n",
       "\n",
       "    .dataframe tbody tr th {\n",
       "        vertical-align: top;\n",
       "    }\n",
       "\n",
       "    .dataframe thead th {\n",
       "        text-align: right;\n",
       "    }\n",
       "</style>\n",
       "<table border=\"1\" class=\"dataframe\">\n",
       "  <thead>\n",
       "    <tr style=\"text-align: right;\">\n",
       "      <th></th>\n",
       "      <th>genre</th>\n",
       "      <th>artist_name</th>\n",
       "      <th>track_name</th>\n",
       "      <th>track_id</th>\n",
       "      <th>popularity</th>\n",
       "      <th>acousticness</th>\n",
       "      <th>danceability</th>\n",
       "      <th>duration_ms</th>\n",
       "      <th>energy</th>\n",
       "      <th>instrumentalness</th>\n",
       "      <th>key</th>\n",
       "      <th>liveness</th>\n",
       "      <th>loudness</th>\n",
       "      <th>mode</th>\n",
       "      <th>speechiness</th>\n",
       "      <th>tempo</th>\n",
       "      <th>time_signature</th>\n",
       "      <th>valence</th>\n",
       "    </tr>\n",
       "  </thead>\n",
       "  <tbody>\n",
       "    <tr>\n",
       "      <th>166804</th>\n",
       "      <td>Rock</td>\n",
       "      <td>David Bowie</td>\n",
       "      <td>Starman - 2012 Remastered Version</td>\n",
       "      <td>0pQskrTITgmCMyr85tb9qq</td>\n",
       "      <td>74</td>\n",
       "      <td>0.166000</td>\n",
       "      <td>0.486</td>\n",
       "      <td>254293</td>\n",
       "      <td>0.4500</td>\n",
       "      <td>0.000002</td>\n",
       "      <td>F</td>\n",
       "      <td>0.5400</td>\n",
       "      <td>-10.298</td>\n",
       "      <td>Major</td>\n",
       "      <td>0.0267</td>\n",
       "      <td>100.456</td>\n",
       "      <td>4/4</td>\n",
       "      <td>0.5500</td>\n",
       "    </tr>\n",
       "    <tr>\n",
       "      <th>187633</th>\n",
       "      <td>Ska</td>\n",
       "      <td>Panteon Rococo</td>\n",
       "      <td>Perdón</td>\n",
       "      <td>0DOlaVxCIgxFXhq4TFJBmr</td>\n",
       "      <td>29</td>\n",
       "      <td>0.226000</td>\n",
       "      <td>0.672</td>\n",
       "      <td>338267</td>\n",
       "      <td>0.4460</td>\n",
       "      <td>0.001490</td>\n",
       "      <td>C</td>\n",
       "      <td>0.1130</td>\n",
       "      <td>-14.094</td>\n",
       "      <td>Major</td>\n",
       "      <td>0.0471</td>\n",
       "      <td>111.574</td>\n",
       "      <td>4/4</td>\n",
       "      <td>0.7510</td>\n",
       "    </tr>\n",
       "    <tr>\n",
       "      <th>79839</th>\n",
       "      <td>Opera</td>\n",
       "      <td>Giacomo Puccini</td>\n",
       "      <td>Puccini: La bohème, Act 1: \"Sì. Mi chiamano Mi...</td>\n",
       "      <td>4tHFwiwI62Wa6xgquB4t2G</td>\n",
       "      <td>17</td>\n",
       "      <td>0.987000</td>\n",
       "      <td>0.228</td>\n",
       "      <td>289107</td>\n",
       "      <td>0.0475</td>\n",
       "      <td>0.001230</td>\n",
       "      <td>D</td>\n",
       "      <td>0.1260</td>\n",
       "      <td>-18.715</td>\n",
       "      <td>Major</td>\n",
       "      <td>0.0457</td>\n",
       "      <td>90.908</td>\n",
       "      <td>3/4</td>\n",
       "      <td>0.0556</td>\n",
       "    </tr>\n",
       "    <tr>\n",
       "      <th>98763</th>\n",
       "      <td>Children’s Music</td>\n",
       "      <td>Hot Mulligan</td>\n",
       "      <td>How Do You Know It’s Not Armadillo Shells?</td>\n",
       "      <td>019CBVYnVKnSZVHNRnjqkx</td>\n",
       "      <td>48</td>\n",
       "      <td>0.035400</td>\n",
       "      <td>0.691</td>\n",
       "      <td>163509</td>\n",
       "      <td>0.6410</td>\n",
       "      <td>0.000034</td>\n",
       "      <td>C#</td>\n",
       "      <td>0.0989</td>\n",
       "      <td>-6.947</td>\n",
       "      <td>Major</td>\n",
       "      <td>0.0309</td>\n",
       "      <td>103.975</td>\n",
       "      <td>4/4</td>\n",
       "      <td>0.4220</td>\n",
       "    </tr>\n",
       "    <tr>\n",
       "      <th>188563</th>\n",
       "      <td>Ska</td>\n",
       "      <td>Strung Out</td>\n",
       "      <td>A War Called Home</td>\n",
       "      <td>4zuVHTYCBbS8SmTv5qsX9V</td>\n",
       "      <td>24</td>\n",
       "      <td>0.000037</td>\n",
       "      <td>0.330</td>\n",
       "      <td>200800</td>\n",
       "      <td>0.9890</td>\n",
       "      <td>0.247000</td>\n",
       "      <td>A</td>\n",
       "      <td>0.1540</td>\n",
       "      <td>-3.270</td>\n",
       "      <td>Major</td>\n",
       "      <td>0.1060</td>\n",
       "      <td>168.020</td>\n",
       "      <td>4/4</td>\n",
       "      <td>0.2830</td>\n",
       "    </tr>\n",
       "  </tbody>\n",
       "</table>\n",
       "</div>"
      ],
      "text/plain": [
       "                   genre      artist_name  \\\n",
       "166804              Rock      David Bowie   \n",
       "187633               Ska   Panteon Rococo   \n",
       "79839              Opera  Giacomo Puccini   \n",
       "98763   Children’s Music     Hot Mulligan   \n",
       "188563               Ska       Strung Out   \n",
       "\n",
       "                                               track_name  \\\n",
       "166804                  Starman - 2012 Remastered Version   \n",
       "187633                                             Perdón   \n",
       "79839   Puccini: La bohème, Act 1: \"Sì. Mi chiamano Mi...   \n",
       "98763          How Do You Know It’s Not Armadillo Shells?   \n",
       "188563                                  A War Called Home   \n",
       "\n",
       "                      track_id  popularity  acousticness  danceability  \\\n",
       "166804  0pQskrTITgmCMyr85tb9qq          74      0.166000         0.486   \n",
       "187633  0DOlaVxCIgxFXhq4TFJBmr          29      0.226000         0.672   \n",
       "79839   4tHFwiwI62Wa6xgquB4t2G          17      0.987000         0.228   \n",
       "98763   019CBVYnVKnSZVHNRnjqkx          48      0.035400         0.691   \n",
       "188563  4zuVHTYCBbS8SmTv5qsX9V          24      0.000037         0.330   \n",
       "\n",
       "        duration_ms  energy  instrumentalness key  liveness  loudness   mode  \\\n",
       "166804       254293  0.4500          0.000002   F    0.5400   -10.298  Major   \n",
       "187633       338267  0.4460          0.001490   C    0.1130   -14.094  Major   \n",
       "79839        289107  0.0475          0.001230   D    0.1260   -18.715  Major   \n",
       "98763        163509  0.6410          0.000034  C#    0.0989    -6.947  Major   \n",
       "188563       200800  0.9890          0.247000   A    0.1540    -3.270  Major   \n",
       "\n",
       "        speechiness    tempo time_signature  valence  \n",
       "166804       0.0267  100.456            4/4   0.5500  \n",
       "187633       0.0471  111.574            4/4   0.7510  \n",
       "79839        0.0457   90.908            3/4   0.0556  \n",
       "98763        0.0309  103.975            4/4   0.4220  \n",
       "188563       0.1060  168.020            4/4   0.2830  "
      ]
     },
     "execution_count": 2,
     "metadata": {},
     "output_type": "execute_result"
    }
   ],
   "source": [
    "df = pd.read_csv(\"SpotifyFeatures.csv\")\n",
    "df = df.sample(df.shape[0])\n",
    "print(df.shape)\n",
    "df.head(5)"
   ]
  },
  {
   "cell_type": "code",
   "execution_count": null,
   "metadata": {},
   "outputs": [],
   "source": []
  },
  {
   "cell_type": "code",
   "execution_count": 3,
   "metadata": {},
   "outputs": [
    {
     "data": {
      "text/plain": [
       "genre               False\n",
       "artist_name         False\n",
       "track_name          False\n",
       "track_id            False\n",
       "popularity          False\n",
       "acousticness        False\n",
       "danceability        False\n",
       "duration_ms         False\n",
       "energy              False\n",
       "instrumentalness    False\n",
       "key                 False\n",
       "liveness            False\n",
       "loudness            False\n",
       "mode                False\n",
       "speechiness         False\n",
       "tempo               False\n",
       "time_signature      False\n",
       "valence             False\n",
       "dtype: bool"
      ]
     },
     "execution_count": 3,
     "metadata": {},
     "output_type": "execute_result"
    }
   ],
   "source": [
    "df.isnull().any()"
   ]
  },
  {
   "cell_type": "code",
   "execution_count": 4,
   "metadata": {},
   "outputs": [
    {
     "data": {
      "text/html": [
       "<div>\n",
       "<style scoped>\n",
       "    .dataframe tbody tr th:only-of-type {\n",
       "        vertical-align: middle;\n",
       "    }\n",
       "\n",
       "    .dataframe tbody tr th {\n",
       "        vertical-align: top;\n",
       "    }\n",
       "\n",
       "    .dataframe thead th {\n",
       "        text-align: right;\n",
       "    }\n",
       "</style>\n",
       "<table border=\"1\" class=\"dataframe\">\n",
       "  <thead>\n",
       "    <tr style=\"text-align: right;\">\n",
       "      <th></th>\n",
       "      <th>acousticness</th>\n",
       "      <th>danceability</th>\n",
       "      <th>energy</th>\n",
       "      <th>instrumentalness</th>\n",
       "      <th>liveness</th>\n",
       "      <th>loudness</th>\n",
       "      <th>speechiness</th>\n",
       "      <th>valence</th>\n",
       "      <th>tempo</th>\n",
       "      <th>key</th>\n",
       "      <th>time_signature</th>\n",
       "      <th>genre</th>\n",
       "    </tr>\n",
       "  </thead>\n",
       "  <tbody>\n",
       "    <tr>\n",
       "      <th>166804</th>\n",
       "      <td>0.166000</td>\n",
       "      <td>0.486</td>\n",
       "      <td>0.4500</td>\n",
       "      <td>0.000002</td>\n",
       "      <td>0.5400</td>\n",
       "      <td>-10.298</td>\n",
       "      <td>0.0267</td>\n",
       "      <td>0.5500</td>\n",
       "      <td>100.456</td>\n",
       "      <td>F</td>\n",
       "      <td>4/4</td>\n",
       "      <td>Rock</td>\n",
       "    </tr>\n",
       "    <tr>\n",
       "      <th>187633</th>\n",
       "      <td>0.226000</td>\n",
       "      <td>0.672</td>\n",
       "      <td>0.4460</td>\n",
       "      <td>0.001490</td>\n",
       "      <td>0.1130</td>\n",
       "      <td>-14.094</td>\n",
       "      <td>0.0471</td>\n",
       "      <td>0.7510</td>\n",
       "      <td>111.574</td>\n",
       "      <td>C</td>\n",
       "      <td>4/4</td>\n",
       "      <td>Ska</td>\n",
       "    </tr>\n",
       "    <tr>\n",
       "      <th>79839</th>\n",
       "      <td>0.987000</td>\n",
       "      <td>0.228</td>\n",
       "      <td>0.0475</td>\n",
       "      <td>0.001230</td>\n",
       "      <td>0.1260</td>\n",
       "      <td>-18.715</td>\n",
       "      <td>0.0457</td>\n",
       "      <td>0.0556</td>\n",
       "      <td>90.908</td>\n",
       "      <td>D</td>\n",
       "      <td>3/4</td>\n",
       "      <td>Opera</td>\n",
       "    </tr>\n",
       "    <tr>\n",
       "      <th>98763</th>\n",
       "      <td>0.035400</td>\n",
       "      <td>0.691</td>\n",
       "      <td>0.6410</td>\n",
       "      <td>0.000034</td>\n",
       "      <td>0.0989</td>\n",
       "      <td>-6.947</td>\n",
       "      <td>0.0309</td>\n",
       "      <td>0.4220</td>\n",
       "      <td>103.975</td>\n",
       "      <td>C#</td>\n",
       "      <td>4/4</td>\n",
       "      <td>Children’s Music</td>\n",
       "    </tr>\n",
       "    <tr>\n",
       "      <th>188563</th>\n",
       "      <td>0.000037</td>\n",
       "      <td>0.330</td>\n",
       "      <td>0.9890</td>\n",
       "      <td>0.247000</td>\n",
       "      <td>0.1540</td>\n",
       "      <td>-3.270</td>\n",
       "      <td>0.1060</td>\n",
       "      <td>0.2830</td>\n",
       "      <td>168.020</td>\n",
       "      <td>A</td>\n",
       "      <td>4/4</td>\n",
       "      <td>Ska</td>\n",
       "    </tr>\n",
       "  </tbody>\n",
       "</table>\n",
       "</div>"
      ],
      "text/plain": [
       "        acousticness  danceability  energy  instrumentalness  liveness  \\\n",
       "166804      0.166000         0.486  0.4500          0.000002    0.5400   \n",
       "187633      0.226000         0.672  0.4460          0.001490    0.1130   \n",
       "79839       0.987000         0.228  0.0475          0.001230    0.1260   \n",
       "98763       0.035400         0.691  0.6410          0.000034    0.0989   \n",
       "188563      0.000037         0.330  0.9890          0.247000    0.1540   \n",
       "\n",
       "        loudness  speechiness  valence    tempo key time_signature  \\\n",
       "166804   -10.298       0.0267   0.5500  100.456   F            4/4   \n",
       "187633   -14.094       0.0471   0.7510  111.574   C            4/4   \n",
       "79839    -18.715       0.0457   0.0556   90.908   D            3/4   \n",
       "98763     -6.947       0.0309   0.4220  103.975  C#            4/4   \n",
       "188563    -3.270       0.1060   0.2830  168.020   A            4/4   \n",
       "\n",
       "                   genre  \n",
       "166804              Rock  \n",
       "187633               Ska  \n",
       "79839              Opera  \n",
       "98763   Children’s Music  \n",
       "188563               Ska  "
      ]
     },
     "execution_count": 4,
     "metadata": {},
     "output_type": "execute_result"
    }
   ],
   "source": [
    "columns = [\n",
    "    \"acousticness\",\n",
    "    \"danceability\",\n",
    "    \"energy\",\n",
    "    \"instrumentalness\",\n",
    "    \"liveness\",\n",
    "    \"loudness\",\n",
    "    \"speechiness\",\n",
    "    \"valence\",\n",
    "    \"tempo\",\n",
    "    \"key\",\n",
    "    \"time_signature\",\n",
    "    \"genre\"\n",
    "          ]\n",
    "\n",
    "df_selected = df[columns][df[\"genre\"] != \"A Capella\"]\n",
    "df_selected.head()"
   ]
  },
  {
   "cell_type": "code",
   "execution_count": 5,
   "metadata": {},
   "outputs": [
    {
     "name": "stdout",
     "output_type": "stream",
     "text": [
      "(26, 2)\n"
     ]
    },
    {
     "data": {
      "text/html": [
       "<div>\n",
       "<style scoped>\n",
       "    .dataframe tbody tr th:only-of-type {\n",
       "        vertical-align: middle;\n",
       "    }\n",
       "\n",
       "    .dataframe tbody tr th {\n",
       "        vertical-align: top;\n",
       "    }\n",
       "\n",
       "    .dataframe thead th {\n",
       "        text-align: right;\n",
       "    }\n",
       "</style>\n",
       "<table border=\"1\" class=\"dataframe\">\n",
       "  <thead>\n",
       "    <tr style=\"text-align: right;\">\n",
       "      <th></th>\n",
       "      <th>genre</th>\n",
       "      <th>label_genre</th>\n",
       "    </tr>\n",
       "  </thead>\n",
       "  <tbody>\n",
       "    <tr>\n",
       "      <th>0</th>\n",
       "      <td>Rock</td>\n",
       "      <td>0</td>\n",
       "    </tr>\n",
       "    <tr>\n",
       "      <th>1</th>\n",
       "      <td>Ska</td>\n",
       "      <td>1</td>\n",
       "    </tr>\n",
       "    <tr>\n",
       "      <th>2</th>\n",
       "      <td>Opera</td>\n",
       "      <td>2</td>\n",
       "    </tr>\n",
       "    <tr>\n",
       "      <th>3</th>\n",
       "      <td>Children’s Music</td>\n",
       "      <td>3</td>\n",
       "    </tr>\n",
       "    <tr>\n",
       "      <th>4</th>\n",
       "      <td>Indie</td>\n",
       "      <td>4</td>\n",
       "    </tr>\n",
       "  </tbody>\n",
       "</table>\n",
       "</div>"
      ],
      "text/plain": [
       "              genre  label_genre\n",
       "0              Rock            0\n",
       "1               Ska            1\n",
       "2             Opera            2\n",
       "3  Children’s Music            3\n",
       "4             Indie            4"
      ]
     },
     "execution_count": 5,
     "metadata": {},
     "output_type": "execute_result"
    }
   ],
   "source": [
    "genres = df_selected[\"genre\"].drop_duplicates()\n",
    "df_genres = pd.DataFrame(genres)\n",
    "df_genres[\"label_genre\"] = np.arange(df_genres.shape[0])\n",
    "df_genres = df_genres.reset_index()[[\"genre\", \"label_genre\"]]\n",
    "print(df_genres.shape)\n",
    "df_genres.head(5)"
   ]
  },
  {
   "cell_type": "code",
   "execution_count": 6,
   "metadata": {},
   "outputs": [
    {
     "data": {
      "text/html": [
       "<div>\n",
       "<style scoped>\n",
       "    .dataframe tbody tr th:only-of-type {\n",
       "        vertical-align: middle;\n",
       "    }\n",
       "\n",
       "    .dataframe tbody tr th {\n",
       "        vertical-align: top;\n",
       "    }\n",
       "\n",
       "    .dataframe thead th {\n",
       "        text-align: right;\n",
       "    }\n",
       "</style>\n",
       "<table border=\"1\" class=\"dataframe\">\n",
       "  <thead>\n",
       "    <tr style=\"text-align: right;\">\n",
       "      <th></th>\n",
       "      <th>year</th>\n",
       "      <th>id</th>\n",
       "    </tr>\n",
       "  </thead>\n",
       "  <tbody>\n",
       "    <tr>\n",
       "      <th>0</th>\n",
       "      <td>1928</td>\n",
       "      <td>6KbQ3uYMLKb5jDxLF7wYDD</td>\n",
       "    </tr>\n",
       "    <tr>\n",
       "      <th>1</th>\n",
       "      <td>1928</td>\n",
       "      <td>6KuQTIu1KoTTkLXKrwlLPV</td>\n",
       "    </tr>\n",
       "    <tr>\n",
       "      <th>2</th>\n",
       "      <td>1928</td>\n",
       "      <td>6L63VW0PibdM1HDSBoqnoM</td>\n",
       "    </tr>\n",
       "    <tr>\n",
       "      <th>3</th>\n",
       "      <td>1928</td>\n",
       "      <td>6M94FkXd15sOAOQYRnWPN8</td>\n",
       "    </tr>\n",
       "    <tr>\n",
       "      <th>4</th>\n",
       "      <td>1928</td>\n",
       "      <td>6N6tiFZ9vLTSOIxkj8qKrd</td>\n",
       "    </tr>\n",
       "  </tbody>\n",
       "</table>\n",
       "</div>"
      ],
      "text/plain": [
       "   year                      id\n",
       "0  1928  6KbQ3uYMLKb5jDxLF7wYDD\n",
       "1  1928  6KuQTIu1KoTTkLXKrwlLPV\n",
       "2  1928  6L63VW0PibdM1HDSBoqnoM\n",
       "3  1928  6M94FkXd15sOAOQYRnWPN8\n",
       "4  1928  6N6tiFZ9vLTSOIxkj8qKrd"
      ]
     },
     "execution_count": 6,
     "metadata": {},
     "output_type": "execute_result"
    }
   ],
   "source": [
    "df_years = pd.read_csv(\"data.csv\")[[\"year\", \"id\"]]\n",
    "df_years.head(5)"
   ]
  },
  {
   "cell_type": "code",
   "execution_count": 7,
   "metadata": {},
   "outputs": [],
   "source": [
    "df_w_years = df.merge(df_years, how = \"left\", left_on = \"track_id\", right_on = \"id\").dropna()"
   ]
  },
  {
   "cell_type": "code",
   "execution_count": 8,
   "metadata": {},
   "outputs": [
    {
     "data": {
      "text/plain": [
       "Pop                 1025\n",
       "Rap                  685\n",
       "Hip-Hop              489\n",
       "Dance                259\n",
       "Indie                206\n",
       "Rock                 200\n",
       "R&B                  171\n",
       "Alternative          170\n",
       "Children’s Music     165\n",
       "Country              149\n",
       "Reggaeton             56\n",
       "Soul                  52\n",
       "Folk                  41\n",
       "World                 16\n",
       "Blues                 11\n",
       "Electronic             8\n",
       "Anime                  4\n",
       "Jazz                   3\n",
       "Soundtrack             1\n",
       "Name: genre, dtype: int64"
      ]
     },
     "execution_count": 8,
     "metadata": {},
     "output_type": "execute_result"
    }
   ],
   "source": [
    "data = df_w_years[(df_w_years[\"year\"] > 2017)]\n",
    "data[\"genre\"].value_counts()"
   ]
  },
  {
   "cell_type": "code",
   "execution_count": 9,
   "metadata": {},
   "outputs": [
    {
     "data": {
      "text/plain": [
       "Drake                  59\n",
       "Joji                   57\n",
       "Future                 51\n",
       "Playboi Carti          47\n",
       "Lil Baby               42\n",
       "                       ..\n",
       "Los Hijos De Garcia     1\n",
       "Cody Jinks              1\n",
       "Elevation Worship       1\n",
       "Kolby Cooper            1\n",
       "Burna Boy               1\n",
       "Name: artist_name, Length: 629, dtype: int64"
      ]
     },
     "execution_count": 9,
     "metadata": {},
     "output_type": "execute_result"
    }
   ],
   "source": [
    "data[\"artist_name\"].value_counts()"
   ]
  },
  {
   "cell_type": "code",
   "execution_count": 10,
   "metadata": {},
   "outputs": [
    {
     "name": "stderr",
     "output_type": "stream",
     "text": [
      "/home/cs582/anaconda3/envs/py36/lib/python3.6/site-packages/ipykernel_launcher.py:1: SettingWithCopyWarning: \n",
      "A value is trying to be set on a copy of a slice from a DataFrame.\n",
      "Try using .loc[row_indexer,col_indexer] = value instead\n",
      "\n",
      "See the caveats in the documentation: https://pandas.pydata.org/pandas-docs/stable/user_guide/indexing.html#returning-a-view-versus-a-copy\n",
      "  \"\"\"Entry point for launching an IPython kernel.\n"
     ]
    }
   ],
   "source": [
    "data[\"hit\"] = (data[\"popularity\"] >= 70)"
   ]
  },
  {
   "cell_type": "code",
   "execution_count": 11,
   "metadata": {},
   "outputs": [
    {
     "data": {
      "text/html": [
       "<div>\n",
       "<style scoped>\n",
       "    .dataframe tbody tr th:only-of-type {\n",
       "        vertical-align: middle;\n",
       "    }\n",
       "\n",
       "    .dataframe tbody tr th {\n",
       "        vertical-align: top;\n",
       "    }\n",
       "\n",
       "    .dataframe thead th {\n",
       "        text-align: right;\n",
       "    }\n",
       "</style>\n",
       "<table border=\"1\" class=\"dataframe\">\n",
       "  <thead>\n",
       "    <tr style=\"text-align: right;\">\n",
       "      <th></th>\n",
       "      <th>artist_name</th>\n",
       "      <th>artist_num</th>\n",
       "    </tr>\n",
       "  </thead>\n",
       "  <tbody>\n",
       "    <tr>\n",
       "      <th>55</th>\n",
       "      <td>Nipsey Hussle</td>\n",
       "      <td>0</td>\n",
       "    </tr>\n",
       "    <tr>\n",
       "      <th>71</th>\n",
       "      <td>Chance the Rapper</td>\n",
       "      <td>1</td>\n",
       "    </tr>\n",
       "    <tr>\n",
       "      <th>176</th>\n",
       "      <td>Shoffy</td>\n",
       "      <td>2</td>\n",
       "    </tr>\n",
       "    <tr>\n",
       "      <th>183</th>\n",
       "      <td>A$AP Rocky</td>\n",
       "      <td>3</td>\n",
       "    </tr>\n",
       "    <tr>\n",
       "      <th>196</th>\n",
       "      <td>Iggy Azalea</td>\n",
       "      <td>4</td>\n",
       "    </tr>\n",
       "  </tbody>\n",
       "</table>\n",
       "</div>"
      ],
      "text/plain": [
       "           artist_name  artist_num\n",
       "55       Nipsey Hussle           0\n",
       "71   Chance the Rapper           1\n",
       "176             Shoffy           2\n",
       "183         A$AP Rocky           3\n",
       "196        Iggy Azalea           4"
      ]
     },
     "execution_count": 11,
     "metadata": {},
     "output_type": "execute_result"
    }
   ],
   "source": [
    "artist = data[\"artist_name\"].drop_duplicates()\n",
    "df_art_ = pd.DataFrame(artist)\n",
    "df_art_[\"artist_num\"] = np.arange(df_art_.shape[0])\n",
    "df_art_.head(5)"
   ]
  },
  {
   "cell_type": "code",
   "execution_count": 12,
   "metadata": {},
   "outputs": [
    {
     "data": {
      "text/html": [
       "<div>\n",
       "<style scoped>\n",
       "    .dataframe tbody tr th:only-of-type {\n",
       "        vertical-align: middle;\n",
       "    }\n",
       "\n",
       "    .dataframe tbody tr th {\n",
       "        vertical-align: top;\n",
       "    }\n",
       "\n",
       "    .dataframe thead th {\n",
       "        text-align: right;\n",
       "    }\n",
       "</style>\n",
       "<table border=\"1\" class=\"dataframe\">\n",
       "  <thead>\n",
       "    <tr style=\"text-align: right;\">\n",
       "      <th></th>\n",
       "      <th>genre</th>\n",
       "      <th>artist_name</th>\n",
       "      <th>track_name</th>\n",
       "      <th>track_id</th>\n",
       "      <th>popularity</th>\n",
       "      <th>acousticness</th>\n",
       "      <th>danceability</th>\n",
       "      <th>duration_ms</th>\n",
       "      <th>energy</th>\n",
       "      <th>instrumentalness</th>\n",
       "      <th>...</th>\n",
       "      <th>mode</th>\n",
       "      <th>speechiness</th>\n",
       "      <th>tempo</th>\n",
       "      <th>time_signature</th>\n",
       "      <th>valence</th>\n",
       "      <th>year</th>\n",
       "      <th>id</th>\n",
       "      <th>hit</th>\n",
       "      <th>artist_num</th>\n",
       "      <th>label_genre</th>\n",
       "    </tr>\n",
       "  </thead>\n",
       "  <tbody>\n",
       "    <tr>\n",
       "      <th>0</th>\n",
       "      <td>Hip-Hop</td>\n",
       "      <td>Nipsey Hussle</td>\n",
       "      <td>Dedication (feat. Kendrick Lamar)</td>\n",
       "      <td>6fIjnWrv46njJHLDAY2JdC</td>\n",
       "      <td>62</td>\n",
       "      <td>0.4310</td>\n",
       "      <td>0.512</td>\n",
       "      <td>245813</td>\n",
       "      <td>0.734</td>\n",
       "      <td>0.000000</td>\n",
       "      <td>...</td>\n",
       "      <td>Minor</td>\n",
       "      <td>0.4380</td>\n",
       "      <td>93.995</td>\n",
       "      <td>4/4</td>\n",
       "      <td>0.168</td>\n",
       "      <td>2018.0</td>\n",
       "      <td>6fIjnWrv46njJHLDAY2JdC</td>\n",
       "      <td>0.0</td>\n",
       "      <td>0</td>\n",
       "      <td>21</td>\n",
       "    </tr>\n",
       "    <tr>\n",
       "      <th>1</th>\n",
       "      <td>Hip-Hop</td>\n",
       "      <td>Chance the Rapper</td>\n",
       "      <td>The Man Who Has Everything</td>\n",
       "      <td>3woRy7uxzl1lO2XO99oHsN</td>\n",
       "      <td>70</td>\n",
       "      <td>0.6120</td>\n",
       "      <td>0.686</td>\n",
       "      <td>218624</td>\n",
       "      <td>0.469</td>\n",
       "      <td>0.000000</td>\n",
       "      <td>...</td>\n",
       "      <td>Major</td>\n",
       "      <td>0.2910</td>\n",
       "      <td>72.998</td>\n",
       "      <td>4/4</td>\n",
       "      <td>0.156</td>\n",
       "      <td>2018.0</td>\n",
       "      <td>3woRy7uxzl1lO2XO99oHsN</td>\n",
       "      <td>1.0</td>\n",
       "      <td>1</td>\n",
       "      <td>21</td>\n",
       "    </tr>\n",
       "    <tr>\n",
       "      <th>2</th>\n",
       "      <td>R&amp;B</td>\n",
       "      <td>Shoffy</td>\n",
       "      <td>Cool Again</td>\n",
       "      <td>7tDqtZnEQcgAE92mEMtgnF</td>\n",
       "      <td>74</td>\n",
       "      <td>0.4430</td>\n",
       "      <td>0.774</td>\n",
       "      <td>191935</td>\n",
       "      <td>0.450</td>\n",
       "      <td>0.000033</td>\n",
       "      <td>...</td>\n",
       "      <td>Major</td>\n",
       "      <td>0.0896</td>\n",
       "      <td>90.055</td>\n",
       "      <td>4/4</td>\n",
       "      <td>0.648</td>\n",
       "      <td>2018.0</td>\n",
       "      <td>7tDqtZnEQcgAE92mEMtgnF</td>\n",
       "      <td>1.0</td>\n",
       "      <td>2</td>\n",
       "      <td>18</td>\n",
       "    </tr>\n",
       "    <tr>\n",
       "      <th>3</th>\n",
       "      <td>Hip-Hop</td>\n",
       "      <td>A$AP Rocky</td>\n",
       "      <td>A$AP Forever</td>\n",
       "      <td>1YmF9PvLhIISIANoMLIYGq</td>\n",
       "      <td>73</td>\n",
       "      <td>0.2240</td>\n",
       "      <td>0.469</td>\n",
       "      <td>233061</td>\n",
       "      <td>0.780</td>\n",
       "      <td>0.000000</td>\n",
       "      <td>...</td>\n",
       "      <td>Minor</td>\n",
       "      <td>0.1220</td>\n",
       "      <td>125.999</td>\n",
       "      <td>4/4</td>\n",
       "      <td>0.444</td>\n",
       "      <td>2018.0</td>\n",
       "      <td>1YmF9PvLhIISIANoMLIYGq</td>\n",
       "      <td>1.0</td>\n",
       "      <td>3</td>\n",
       "      <td>21</td>\n",
       "    </tr>\n",
       "    <tr>\n",
       "      <th>4</th>\n",
       "      <td>Dance</td>\n",
       "      <td>Iggy Azalea</td>\n",
       "      <td>Kream (feat. Tyga)</td>\n",
       "      <td>5mu1uv8RmzDkF8foePK5qa</td>\n",
       "      <td>74</td>\n",
       "      <td>0.0335</td>\n",
       "      <td>0.785</td>\n",
       "      <td>166627</td>\n",
       "      <td>0.425</td>\n",
       "      <td>0.000004</td>\n",
       "      <td>...</td>\n",
       "      <td>Major</td>\n",
       "      <td>0.1370</td>\n",
       "      <td>174.028</td>\n",
       "      <td>4/4</td>\n",
       "      <td>0.192</td>\n",
       "      <td>2018.0</td>\n",
       "      <td>5mu1uv8RmzDkF8foePK5qa</td>\n",
       "      <td>1.0</td>\n",
       "      <td>4</td>\n",
       "      <td>14</td>\n",
       "    </tr>\n",
       "  </tbody>\n",
       "</table>\n",
       "<p>5 rows × 23 columns</p>\n",
       "</div>"
      ],
      "text/plain": [
       "     genre        artist_name                         track_name  \\\n",
       "0  Hip-Hop      Nipsey Hussle  Dedication (feat. Kendrick Lamar)   \n",
       "1  Hip-Hop  Chance the Rapper         The Man Who Has Everything   \n",
       "2      R&B             Shoffy                         Cool Again   \n",
       "3  Hip-Hop         A$AP Rocky                       A$AP Forever   \n",
       "4    Dance        Iggy Azalea                 Kream (feat. Tyga)   \n",
       "\n",
       "                 track_id  popularity  acousticness  danceability  \\\n",
       "0  6fIjnWrv46njJHLDAY2JdC          62        0.4310         0.512   \n",
       "1  3woRy7uxzl1lO2XO99oHsN          70        0.6120         0.686   \n",
       "2  7tDqtZnEQcgAE92mEMtgnF          74        0.4430         0.774   \n",
       "3  1YmF9PvLhIISIANoMLIYGq          73        0.2240         0.469   \n",
       "4  5mu1uv8RmzDkF8foePK5qa          74        0.0335         0.785   \n",
       "\n",
       "   duration_ms  energy  instrumentalness  ...   mode  speechiness    tempo  \\\n",
       "0       245813   0.734          0.000000  ...  Minor       0.4380   93.995   \n",
       "1       218624   0.469          0.000000  ...  Major       0.2910   72.998   \n",
       "2       191935   0.450          0.000033  ...  Major       0.0896   90.055   \n",
       "3       233061   0.780          0.000000  ...  Minor       0.1220  125.999   \n",
       "4       166627   0.425          0.000004  ...  Major       0.1370  174.028   \n",
       "\n",
       "  time_signature  valence    year                      id  hit  artist_num  \\\n",
       "0            4/4    0.168  2018.0  6fIjnWrv46njJHLDAY2JdC  0.0           0   \n",
       "1            4/4    0.156  2018.0  3woRy7uxzl1lO2XO99oHsN  1.0           1   \n",
       "2            4/4    0.648  2018.0  7tDqtZnEQcgAE92mEMtgnF  1.0           2   \n",
       "3            4/4    0.444  2018.0  1YmF9PvLhIISIANoMLIYGq  1.0           3   \n",
       "4            4/4    0.192  2018.0  5mu1uv8RmzDkF8foePK5qa  1.0           4   \n",
       "\n",
       "  label_genre  \n",
       "0          21  \n",
       "1          21  \n",
       "2          18  \n",
       "3          21  \n",
       "4          14  \n",
       "\n",
       "[5 rows x 23 columns]"
      ]
     },
     "execution_count": 12,
     "metadata": {},
     "output_type": "execute_result"
    }
   ],
   "source": [
    "data_clean = data.merge(df_art_, how = \"left\", left_on = \"artist_name\", right_on = \"artist_name\")\n",
    "data_clean = data_clean.merge(df_genres, how = \"left\", left_on = \"genre\", right_on = \"genre\")\n",
    "data_clean = data_clean.replace(False, 0)\n",
    "data_clean.head(5)"
   ]
  },
  {
   "cell_type": "code",
   "execution_count": 13,
   "metadata": {},
   "outputs": [
    {
     "name": "stdout",
     "output_type": "stream",
     "text": [
      "(3711, 9) (3711,)\n"
     ]
    },
    {
     "data": {
      "text/plain": [
       "array([[ 4.310e-01,  5.120e-01,  7.340e-01,  0.000e+00,  2.260e-01,\n",
       "        -5.448e+00,  4.380e-01,  0.000e+00,  2.100e+01],\n",
       "       [ 6.120e-01,  6.860e-01,  4.690e-01,  0.000e+00,  1.210e-01,\n",
       "        -9.065e+00,  2.910e-01,  1.000e+00,  2.100e+01],\n",
       "       [ 4.430e-01,  7.740e-01,  4.500e-01,  3.280e-05,  1.270e-01,\n",
       "        -6.860e+00,  8.960e-02,  2.000e+00,  1.800e+01],\n",
       "       [ 2.240e-01,  4.690e-01,  7.800e-01,  0.000e+00,  1.300e-01,\n",
       "        -6.490e+00,  1.220e-01,  3.000e+00,  2.100e+01],\n",
       "       [ 3.350e-02,  7.850e-01,  4.250e-01,  4.360e-06,  1.080e-01,\n",
       "        -6.665e+00,  1.370e-01,  4.000e+00,  1.400e+01]])"
      ]
     },
     "execution_count": 13,
     "metadata": {},
     "output_type": "execute_result"
    }
   ],
   "source": [
    "parameters = [\n",
    "        \"acousticness\",\n",
    "        \"danceability\",\n",
    "        \"energy\",\n",
    "        \"instrumentalness\",\n",
    "        \"liveness\",\n",
    "        \"loudness\",\n",
    "        \"speechiness\",\n",
    "#         \"valence\",\n",
    "        \"artist_num\",\n",
    "        \"label_genre\",\n",
    "            ]\n",
    "X = np.asanyarray(data_clean[parameters])\n",
    "y = np.asanyarray(data_clean[\"hit\"])\n",
    "print(X.shape, y.shape)\n",
    "X[:5, :]"
   ]
  },
  {
   "cell_type": "code",
   "execution_count": 14,
   "metadata": {},
   "outputs": [
    {
     "name": "stdout",
     "output_type": "stream",
     "text": [
      "X train shape:  (2597, 9) , y train shape:  (2597,)\n",
      "X test shape:  (1114, 9) , y test shape:  (1114,)\n"
     ]
    }
   ],
   "source": [
    "X_train, X_test, y_train, y_test = train_test_split(X, y, test_size = 0.3, random_state = 42)\n",
    "print(\"X train shape: \", X_train.shape, \", y train shape: \", y_train.shape)\n",
    "print(\"X test shape: \", X_test.shape, \", y test shape: \", y_test.shape)"
   ]
  },
  {
   "cell_type": "code",
   "execution_count": 15,
   "metadata": {},
   "outputs": [
    {
     "name": "stdout",
     "output_type": "stream",
     "text": [
      "X train shape:  torch.Size([2597, 9]) , y train shape:  torch.Size([2597])\n",
      "X test shape:  torch.Size([1114, 9]) , y test shape:  torch.Size([1114])\n"
     ]
    }
   ],
   "source": [
    "X_train_tensor = torch.tensor(X_train).type(torch.FloatTensor)\n",
    "y_train_tensor = torch.tensor(y_train).type(torch.LongTensor)\n",
    "X_test_tensor = torch.tensor(X_test).type(torch.FloatTensor)\n",
    "y_test_tensor = torch.tensor(y_test).type(torch.LongTensor)\n",
    "\n",
    "print(\"X train shape: \", X_train_tensor.shape, \", y train shape: \", y_train_tensor.shape)\n",
    "print(\"X test shape: \", X_test_tensor.shape, \", y test shape: \", y_test_tensor.shape)"
   ]
  },
  {
   "cell_type": "code",
   "execution_count": 16,
   "metadata": {},
   "outputs": [],
   "source": [
    "class train_data(Dataset):\n",
    "    def __init__(self):\n",
    "        self.x = X_train_tensor\n",
    "        self.y = y_train_tensor\n",
    "        self.len = X_train_tensor.shape[0]\n",
    "    def __getitem__(self, index):\n",
    "        return self.x[index], self.y[index]\n",
    "    def __len__(self):\n",
    "        return self.len"
   ]
  },
  {
   "cell_type": "code",
   "execution_count": 17,
   "metadata": {},
   "outputs": [],
   "source": [
    "class test_data(Dataset):\n",
    "    def __init__(self):\n",
    "        self.x = X_test_tensor\n",
    "        self.y = y_test_tensor\n",
    "        self.len = X_test_tensor.shape[0]\n",
    "    def __getitem__(self, index):\n",
    "        return self.x[index], self.y[index]\n",
    "    def __len__(self):\n",
    "        return self.len"
   ]
  },
  {
   "cell_type": "code",
   "execution_count": 18,
   "metadata": {},
   "outputs": [],
   "source": [
    "def accuracy(model, dataset):\n",
    "    _, y_hat = torch.max(model(dataset.x), 1)\n",
    "    return (y_hat == dataset.y).numpy().mean()"
   ]
  },
  {
   "cell_type": "code",
   "execution_count": 19,
   "metadata": {},
   "outputs": [],
   "source": [
    "train_dataset = train_data()\n",
    "validation_dataset = test_data()"
   ]
  },
  {
   "cell_type": "code",
   "execution_count": 20,
   "metadata": {},
   "outputs": [],
   "source": [
    "trainloader = DataLoader(dataset = train_dataset, batch_size = 50)\n",
    "validation = DataLoader(dataset = validation_dataset, batch_size = 100)"
   ]
  },
  {
   "cell_type": "code",
   "execution_count": 21,
   "metadata": {},
   "outputs": [],
   "source": [
    "class NN_BatchNorm(nn.Module):\n",
    "    def __init__(self, in_size, hidden_size, out_size):\n",
    "        super(NN_BatchNorm, self).__init__()\n",
    "        self.linear1 = nn.Linear(in_size, hidden_size)\n",
    "        self.linear2 = nn.Linear(hidden_size, out_size)\n",
    "        self.bn = nn.BatchNorm1d(hidden_size)\n",
    "\n",
    "    def forward(self, x):\n",
    "        x = self.bn(torch.sigmoid(self.linear1(x)))\n",
    "        x = self.linear2(x)\n",
    "        return x"
   ]
  },
  {
   "cell_type": "code",
   "execution_count": 22,
   "metadata": {},
   "outputs": [],
   "source": [
    "class NN_He(nn.Module):\n",
    "    def __init__(self, in_size, hidden_size, out_size):\n",
    "        super(NN_He, self).__init__()\n",
    "        self.linear1 = nn.Linear(in_size, hidden_size)\n",
    "        torch.nn.init.kaiming_uniform_(self.linear1.weight, nonlinearity = 'relu')\n",
    "        self.linear2 = nn.Linear(hidden_size, out_size)\n",
    "        torch.nn.init.kaiming_uniform_(self.linear2.weight, nonlinearity = 'relu')\n",
    "        self.bn = nn.BatchNorm1d(hidden_size)\n",
    "        \n",
    "    def forward(self, x):\n",
    "        x = self.bn(torch.sigmoid(self.linear1(x)))\n",
    "        x = self.linear2(x)\n",
    "        return x"
   ]
  },
  {
   "cell_type": "code",
   "execution_count": 23,
   "metadata": {},
   "outputs": [],
   "source": [
    "class NN_HeBN(nn.Module):\n",
    "    def __init__(self, in_size, hidden_size1, hidden_size2, hidden_size3, hidden_size4, out_size):\n",
    "        super(NN_HeBN, self).__init__()\n",
    "        self.linear1 = nn.Linear(in_size, hidden_size1)\n",
    "        torch.nn.init.kaiming_uniform_(self.linear1.weight, nonlinearity = 'relu')\n",
    "        self.linear2 = nn.Linear(hidden_size1, hidden_size2)\n",
    "        torch.nn.init.kaiming_uniform_(self.linear2.weight, nonlinearity = 'relu')\n",
    "        self.linear3 = nn.Linear(hidden_size2, hidden_size3)\n",
    "        torch.nn.init.kaiming_uniform_(self.linear3.weight, nonlinearity = 'relu')\n",
    "        self.linear4 = nn.Linear(hidden_size3, hidden_size4)\n",
    "        torch.nn.init.kaiming_uniform_(self.linear4.weight, nonlinearity = 'relu')\n",
    "        self.linear5 = nn.Linear(hidden_size4, out_size)\n",
    "        torch.nn.init.kaiming_uniform_(self.linear5.weight, nonlinearity = 'relu')\n",
    "        self.bn1 = nn.BatchNorm1d(hidden_size1)\n",
    "        self.bn2 = nn.BatchNorm1d(hidden_size2)\n",
    "        self.bn3 = nn.BatchNorm1d(hidden_size3)\n",
    "        self.bn4 = nn.BatchNorm1d(hidden_size4)\n",
    "\n",
    "    def forward(self, x):\n",
    "        x = self.bn1(nn.functional.relu(self.linear1(x)))\n",
    "        x = self.bn2(nn.functional.relu(self.linear2(x)))\n",
    "        x = self.bn3(nn.functional.relu(self.linear3(x)))\n",
    "        x = self.bn4(torch.sigmoid(self.linear4(x)))\n",
    "        x = self.linear5(x)\n",
    "        return x"
   ]
  },
  {
   "cell_type": "code",
   "execution_count": 24,
   "metadata": {},
   "outputs": [],
   "source": [
    "def train(dataset, model, criterion, trainloader, validation, optimizer, epochs = 100):\n",
    "    LOSS = []\n",
    "    ACC = []\n",
    "    percent = epochs // 10\n",
    "    \n",
    "    if epochs > 500:\n",
    "        percent = epochs // 20\n",
    "    \n",
    "    for epoch in range(epochs):\n",
    "        if epochs > 10 and (epoch + 1) % percent == 0:\n",
    "            print(\"training... \", 100 * (epoch + 1) / epochs, \"% completed\")\n",
    "        for x, y in trainloader:\n",
    "            optimizer.zero_grad()\n",
    "            y_hat = model(x)\n",
    "            loss = criterion(y_hat, y)\n",
    "            optimizer.zero_grad()\n",
    "            loss.backward()\n",
    "            optimizer.step()\n",
    "        cost = loss.item()\n",
    "        LOSS.append(cost)\n",
    "        \n",
    "        correct = 0\n",
    "        for x, y in validation:\n",
    "            model.eval()\n",
    "            y_hat = model(x)\n",
    "            _, label = torch.max(y_hat, 1)\n",
    "            correct += (label == y).sum().item()\n",
    "\n",
    "        acc = 100 * (correct / len(validation_dataset))\n",
    "        ACC.append(acc)\n",
    "        if epochs > 10 and (epoch + 1) % percent == 0:\n",
    "            print(\"cost: \", cost, \", accuracy: \", acc)\n",
    "        \n",
    "        \n",
    "    results = {\"Loss\": LOSS, \"Accuracy\": ACC}\n",
    "    fig, ax1 = plt.subplots()\n",
    "    color = \"tab:red\"\n",
    "    ax1.plot(LOSS, color = color)\n",
    "    ax1.set_xlabel('epoch', color = color)\n",
    "    ax1.set_ylabel('total loss', color = color)\n",
    "    ax1.tick_params(axis = 'y', color = color)\n",
    "\n",
    "    ax2 = ax1.twinx()\n",
    "    color = 'tab:blue'\n",
    "    ax2.set_ylabel('accuracy %', color = color)\n",
    "    ax2.plot(ACC, color = color)\n",
    "    ax2.tick_params(axis = 'y', color = color)\n",
    "    \n",
    "    plt.show()\n",
    "    \n",
    "    return results"
   ]
  },
  {
   "cell_type": "code",
   "execution_count": 144,
   "metadata": {},
   "outputs": [],
   "source": [
    "lr = 0.00001\n",
    "model_bn = NN_BatchNorm(\n",
    "                    in_size = 9,\n",
    "                    hidden_size = 150,\n",
    "                    out_size = 2\n",
    "                   )\n",
    "optimizer = torch.optim.Adam(model_bn.parameters(), lr = lr)\n",
    "criterion = nn.CrossEntropyLoss()"
   ]
  },
  {
   "cell_type": "code",
   "execution_count": 145,
   "metadata": {},
   "outputs": [
    {
     "name": "stdout",
     "output_type": "stream",
     "text": [
      "training...  10.0 % completed\n",
      "cost:  0.7001550793647766 , accuracy:  58.25852782764811\n",
      "training...  20.0 % completed\n",
      "cost:  0.7047123908996582 , accuracy:  59.335727109515254\n",
      "training...  30.0 % completed\n",
      "cost:  0.7040385603904724 , accuracy:  59.335727109515254\n",
      "training...  40.0 % completed\n",
      "cost:  0.7015497088432312 , accuracy:  59.42549371633752\n",
      "training...  50.0 % completed\n",
      "cost:  0.6988587975502014 , accuracy:  59.964093357271096\n",
      "training...  60.0 % completed\n",
      "cost:  0.6948534250259399 , accuracy:  60.05385996409336\n",
      "training...  70.0 % completed\n",
      "cost:  0.6906924843788147 , accuracy:  60.14362657091562\n",
      "training...  80.0 % completed\n",
      "cost:  0.6868094801902771 , accuracy:  60.05385996409336\n",
      "training...  90.0 % completed\n",
      "cost:  0.6829948425292969 , accuracy:  60.32315978456014\n",
      "training...  100.0 % completed\n",
      "cost:  0.6791845560073853 , accuracy:  61.66965888689408\n"
     ]
    },
    {
     "data": {
      "image/png": "[encoded data removed]",
      "text/plain": [
       "<Figure size 432x288 with 2 Axes>"
      ]
     },
     "metadata": {
      "needs_background": "light"
     },
     "output_type": "display_data"
    }
   ],
   "source": [
    "Results_BN = train(train_dataset, model_bn, criterion, trainloader, validation, optimizer, epochs = 400)"
   ]
  },
  {
   "cell_type": "code",
   "execution_count": 146,
   "metadata": {},
   "outputs": [],
   "source": [
    "lr = 0.00005\n",
    "model_he = NN_He(\n",
    "            in_size = 9,\n",
    "            hidden_size = 150,\n",
    "            out_size = 2\n",
    "                )\n",
    "optimizer = torch.optim.Adam(model_he.parameters(), lr = lr)\n",
    "criterion = nn.CrossEntropyLoss()"
   ]
  },
  {
   "cell_type": "code",
   "execution_count": 147,
   "metadata": {
    "scrolled": false
   },
   "outputs": [
    {
     "name": "stdout",
     "output_type": "stream",
     "text": [
      "training...  10.0 % completed\n",
      "cost:  0.6926281452178955 , accuracy:  60.86175942549371\n",
      "training...  20.0 % completed\n",
      "cost:  0.6858609914779663 , accuracy:  60.86175942549371\n",
      "training...  30.0 % completed\n",
      "cost:  0.6782752275466919 , accuracy:  61.40035906642729\n",
      "training...  40.0 % completed\n",
      "cost:  0.6732209920883179 , accuracy:  61.310592459605026\n",
      "training...  50.0 % completed\n",
      "cost:  0.6695960760116577 , accuracy:  61.40035906642729\n",
      "training...  60.0 % completed\n",
      "cost:  0.666610062122345 , accuracy:  61.40035906642729\n",
      "training...  70.0 % completed\n",
      "cost:  0.6644416451454163 , accuracy:  61.22082585278277\n",
      "training...  80.0 % completed\n",
      "cost:  0.6625123620033264 , accuracy:  61.57989228007181\n",
      "training...  90.0 % completed\n",
      "cost:  0.6602340340614319 , accuracy:  61.13105924596051\n",
      "training...  100.0 % completed\n",
      "cost:  0.6580640077590942 , accuracy:  61.13105924596051\n"
     ]
    },
    {
     "data": {
      "image/png": "[encoded data removed]",
      "text/plain": [
       "<Figure size 432x288 with 2 Axes>"
      ]
     },
     "metadata": {
      "needs_background": "light"
     },
     "output_type": "display_data"
    }
   ],
   "source": [
    "Results_He = train(train_dataset, model_he, criterion, trainloader, validation, optimizer, epochs = 400)"
   ]
  },
  {
   "cell_type": "code",
   "execution_count": 148,
   "metadata": {},
   "outputs": [],
   "source": [
    "lr = 0.000005\n",
    "model_HeBN = NN_HeBN(\n",
    "            in_size = 9,\n",
    "            hidden_size1 = 1000,\n",
    "            hidden_size2 = 500,\n",
    "            hidden_size3 = 250,\n",
    "            hidden_size4 = 25,\n",
    "            out_size = 2\n",
    "                )\n",
    "optimizer = torch.optim.Adam(model_HeBN.parameters(), lr = lr)\n",
    "criterion = nn.CrossEntropyLoss()"
   ]
  },
  {
   "cell_type": "code",
   "execution_count": 149,
   "metadata": {},
   "outputs": [
    {
     "name": "stdout",
     "output_type": "stream",
     "text": [
      "training...  10.0 % completed\n",
      "cost:  0.5547322034835815 , accuracy:  67.59425493716338\n",
      "training...  20.0 % completed\n",
      "cost:  0.5289314985275269 , accuracy:  68.49192100538599\n",
      "training...  30.0 % completed\n",
      "cost:  0.5123196244239807 , accuracy:  68.31238779174147\n",
      "training...  40.0 % completed\n",
      "cost:  0.49925345182418823 , accuracy:  68.2226211849192\n",
      "training...  50.0 % completed\n",
      "cost:  0.4886929988861084 , accuracy:  67.86355475763017\n",
      "training...  60.0 % completed\n",
      "cost:  0.4793751537799835 , accuracy:  67.95332136445242\n",
      "training...  70.0 % completed\n",
      "cost:  0.4718121886253357 , accuracy:  67.7737881508079\n",
      "training...  80.0 % completed\n",
      "cost:  0.4644794166088104 , accuracy:  68.13285457809695\n",
      "training...  90.0 % completed\n",
      "cost:  0.45780080556869507 , accuracy:  68.31238779174147\n",
      "training...  100.0 % completed\n",
      "cost:  0.4509139657020569 , accuracy:  68.04308797127469\n"
     ]
    },
    {
     "data": {
      "image/png": "[encoded data removed]",
      "text/plain": [
       "<Figure size 432x288 with 2 Axes>"
      ]
     },
     "metadata": {
      "needs_background": "light"
     },
     "output_type": "display_data"
    }
   ],
   "source": [
    "Results_HeBN = train(train_dataset, model_HeBN, criterion, trainloader, validation, optimizer, epochs = 400)"
   ]
  },
  {
   "cell_type": "code",
   "execution_count": 150,
   "metadata": {},
   "outputs": [],
   "source": [
    "torch.save(model_HeBN.state_dict(), \"hit_predictor_HeBN.pth\")"
   ]
  },
  {
   "cell_type": "code",
   "execution_count": 151,
   "metadata": {},
   "outputs": [],
   "source": [
    "torch.save(model_he.state_dict(), \"hit_predictor_HeInit.pth\")"
   ]
  },
  {
   "cell_type": "code",
   "execution_count": 152,
   "metadata": {},
   "outputs": [],
   "source": [
    "torch.save(model_bn.state_dict(), \"hit_predictor_BN.pth\")"
   ]
  },
  {
   "cell_type": "markdown",
   "metadata": {},
   "source": [
    "## Comparing the accuracy of three models:\n",
    "Batch Normalization (1 hidden layer), He Initializer (1 hidden layer), DNN Batch Normalization and He initializer"
   ]
  },
  {
   "cell_type": "code",
   "execution_count": 153,
   "metadata": {},
   "outputs": [
    {
     "data": {
      "text/html": [
       "<div>\n",
       "<style scoped>\n",
       "    .dataframe tbody tr th:only-of-type {\n",
       "        vertical-align: middle;\n",
       "    }\n",
       "\n",
       "    .dataframe tbody tr th {\n",
       "        vertical-align: top;\n",
       "    }\n",
       "\n",
       "    .dataframe thead th {\n",
       "        text-align: right;\n",
       "    }\n",
       "</style>\n",
       "<table border=\"1\" class=\"dataframe\">\n",
       "  <thead>\n",
       "    <tr style=\"text-align: right;\">\n",
       "      <th></th>\n",
       "      <th>Loss</th>\n",
       "      <th>Accuracy</th>\n",
       "    </tr>\n",
       "  </thead>\n",
       "  <tbody>\n",
       "    <tr>\n",
       "      <th>Batch Normalization</th>\n",
       "      <td>0.679185</td>\n",
       "      <td>61.669659</td>\n",
       "    </tr>\n",
       "    <tr>\n",
       "      <th>He Initializer</th>\n",
       "      <td>0.658064</td>\n",
       "      <td>61.131059</td>\n",
       "    </tr>\n",
       "    <tr>\n",
       "      <th>DNN BN and He</th>\n",
       "      <td>0.450914</td>\n",
       "      <td>68.043088</td>\n",
       "    </tr>\n",
       "  </tbody>\n",
       "</table>\n",
       "</div>"
      ],
      "text/plain": [
       "                         Loss   Accuracy\n",
       "Batch Normalization  0.679185  61.669659\n",
       "He Initializer       0.658064  61.131059\n",
       "DNN BN and He        0.450914  68.043088"
      ]
     },
     "execution_count": 153,
     "metadata": {},
     "output_type": "execute_result"
    }
   ],
   "source": [
    "compare = pd.DataFrame({\n",
    "        \"Batch Normalization\" : [Results_BN['Loss'][-1], Results_BN['Accuracy'][-1]],\n",
    "        \"He Initializer\" : [Results_He['Loss'][-1], Results_He['Accuracy'][-1]],\n",
    "        \"DNN BN and He\" : [Results_HeBN['Loss'][-1], Results_HeBN['Accuracy'][-1]]\n",
    "}, index = [\"Loss\", \"Accuracy\"]).T\n",
    "compare"
   ]
  },
  {
   "cell_type": "code",
   "execution_count": 154,
   "metadata": {},
   "outputs": [
    {
     "data": {
      "text/plain": [
       "<matplotlib.legend.Legend at 0x7feace7df668>"
      ]
     },
     "execution_count": 154,
     "metadata": {},
     "output_type": "execute_result"
    },
    {
     "data": {
      "image/png": "[encoded data removed]",
      "text/plain": [
       "<Figure size 1080x432 with 1 Axes>"
      ]
     },
     "metadata": {
      "needs_background": "light"
     },
     "output_type": "display_data"
    }
   ],
   "source": [
    "plt.figure(figsize = (15, 6))\n",
    "color = \"tab:red\"\n",
    "plt.plot(Results_BN['Loss'], color = \"red\", label = \"NN Batch Norm\")\n",
    "plt.plot(Results_He['Loss'], color = \"blue\", label = \"NN He Init\")\n",
    "plt.plot(Results_HeBN['Loss'], color = \"green\", label = \"DNN He and Batch Norm\")\n",
    "plt.xlabel('epoch', color = color, fontsize = 15)\n",
    "plt.ylabel('total loss', color = color, fontsize = 15)\n",
    "plt.tick_params(axis = 'y', color = color)\n",
    "plt.legend(loc = 1)"
   ]
  },
  {
   "cell_type": "code",
   "execution_count": 155,
   "metadata": {},
   "outputs": [
    {
     "data": {
      "text/plain": [
       "<matplotlib.legend.Legend at 0x7feace765860>"
      ]
     },
     "execution_count": 155,
     "metadata": {},
     "output_type": "execute_result"
    },
    {
     "data": {
      "image/png": "[encoded data removed]",
      "text/plain": [
       "<Figure size 1080x432 with 1 Axes>"
      ]
     },
     "metadata": {
      "needs_background": "light"
     },
     "output_type": "display_data"
    }
   ],
   "source": [
    "plt.figure(figsize = (15, 6))\n",
    "color = \"tab:blue\"\n",
    "plt.plot(Results_BN['Accuracy'], color = \"red\", label = \"NN Batch Norm\")\n",
    "plt.plot(Results_He['Accuracy'], color = \"blue\", label = \"NN He Init\")\n",
    "plt.plot(Results_HeBN['Accuracy'], color = \"green\", label = \"DNN He and Batch Norm\")\n",
    "plt.xlabel('epoch', color = color, fontsize = 15)\n",
    "plt.ylabel('Accuracy (%)', color = color, fontsize = 15)\n",
    "plt.tick_params(axis = 'y', color = color)\n",
    "plt.legend(loc = 1)"
   ]
  },
  {
   "cell_type": "code",
   "execution_count": null,
   "metadata": {},
   "outputs": [],
   "source": []
  }
 ],
 "metadata": {
  "kernelspec": {
   "display_name": "Python 3",
   "language": "python",
   "name": "python3"
  },
  "language_info": {
   "codemirror_mode": {
    "name": "ipython",
    "version": 3
   },
   "file_extension": ".py",
   "mimetype": "text/x-python",
   "name": "python",
   "nbconvert_exporter": "python",
   "pygments_lexer": "ipython3",
   "version": "3.6.10"
  }
 },
 "nbformat": 4,
 "nbformat_minor": 4
}
