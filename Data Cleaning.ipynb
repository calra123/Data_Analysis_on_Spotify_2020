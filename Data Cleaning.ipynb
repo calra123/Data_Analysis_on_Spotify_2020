{
 "cells": [
  {
   "cell_type": "markdown",
   "metadata": {},
   "source": [
    "## What are the 100 most popular in the first half of 2020?\n",
    "\n",
    "We use the top 100 songs in Spotify and use a metric that is clearly related to success, in this case popularity"
   ]
  },
  {
   "cell_type": "markdown",
   "metadata": {},
   "source": [
    "## Understanding our data\n",
    "Understand the dataset"
   ]
  },
  {
   "cell_type": "code",
   "execution_count": 1,
   "metadata": {},
   "outputs": [],
   "source": [
    "import pandas as pd\n",
    "import numpy as np\n",
    "import torch\n",
    "import matplotlib.pyplot as plt\n",
    "import seaborn as sns\n",
    "from datetime import datetime\n",
    "from sklearn.linear_model import LinearRegression\n",
    "from mpl_toolkits.mplot3d import Axes3D"
   ]
  },
  {
   "cell_type": "code",
   "execution_count": 13,
   "metadata": {},
   "outputs": [],
   "source": [
    "import json\n",
    "import os\n",
    "import webbrowser\n",
    "from json.decoder import JSONDecodeError\n",
    "import spotipy\n",
    "import spotipy.util as util\n",
    "from spotipy.oauth2 import SpotifyClientCredentials\n",
    "import sys"
   ]
  },
  {
   "cell_type": "code",
   "execution_count": 17,
   "metadata": {},
   "outputs": [
    {
     "name": "stdout",
     "output_type": "stream",
     "text": [
      "df shape:  (169909, 19)\n"
     ]
    },
    {
     "data": {
      "text/html": [
       "<div>\n",
       "<style scoped>\n",
       "    .dataframe tbody tr th:only-of-type {\n",
       "        vertical-align: middle;\n",
       "    }\n",
       "\n",
       "    .dataframe tbody tr th {\n",
       "        vertical-align: top;\n",
       "    }\n",
       "\n",
       "    .dataframe thead th {\n",
       "        text-align: right;\n",
       "    }\n",
       "</style>\n",
       "<table border=\"1\" class=\"dataframe\">\n",
       "  <thead>\n",
       "    <tr style=\"text-align: right;\">\n",
       "      <th></th>\n",
       "      <th>acousticness</th>\n",
       "      <th>artists</th>\n",
       "      <th>danceability</th>\n",
       "      <th>duration_ms</th>\n",
       "      <th>energy</th>\n",
       "      <th>explicit</th>\n",
       "      <th>id</th>\n",
       "      <th>instrumentalness</th>\n",
       "      <th>key</th>\n",
       "      <th>liveness</th>\n",
       "      <th>loudness</th>\n",
       "      <th>mode</th>\n",
       "      <th>name</th>\n",
       "      <th>popularity</th>\n",
       "      <th>release_date</th>\n",
       "      <th>speechiness</th>\n",
       "      <th>tempo</th>\n",
       "      <th>valence</th>\n",
       "      <th>year</th>\n",
       "    </tr>\n",
       "  </thead>\n",
       "  <tbody>\n",
       "    <tr>\n",
       "      <th>0</th>\n",
       "      <td>0.995</td>\n",
       "      <td>['Carl Woitschach']</td>\n",
       "      <td>0.708</td>\n",
       "      <td>158648</td>\n",
       "      <td>0.1950</td>\n",
       "      <td>0</td>\n",
       "      <td>6KbQ3uYMLKb5jDxLF7wYDD</td>\n",
       "      <td>0.563</td>\n",
       "      <td>10</td>\n",
       "      <td>0.1510</td>\n",
       "      <td>-12.428</td>\n",
       "      <td>1</td>\n",
       "      <td>Singende Bataillone 1. Teil</td>\n",
       "      <td>0</td>\n",
       "      <td>1928</td>\n",
       "      <td>0.0506</td>\n",
       "      <td>118.469</td>\n",
       "      <td>0.7790</td>\n",
       "      <td>1928</td>\n",
       "    </tr>\n",
       "    <tr>\n",
       "      <th>1</th>\n",
       "      <td>0.994</td>\n",
       "      <td>['Robert Schumann', 'Vladimir Horowitz']</td>\n",
       "      <td>0.379</td>\n",
       "      <td>282133</td>\n",
       "      <td>0.0135</td>\n",
       "      <td>0</td>\n",
       "      <td>6KuQTIu1KoTTkLXKrwlLPV</td>\n",
       "      <td>0.901</td>\n",
       "      <td>8</td>\n",
       "      <td>0.0763</td>\n",
       "      <td>-28.454</td>\n",
       "      <td>1</td>\n",
       "      <td>Fantasiestücke, Op. 111: Più tosto lento</td>\n",
       "      <td>0</td>\n",
       "      <td>1928</td>\n",
       "      <td>0.0462</td>\n",
       "      <td>83.972</td>\n",
       "      <td>0.0767</td>\n",
       "      <td>1928</td>\n",
       "    </tr>\n",
       "    <tr>\n",
       "      <th>2</th>\n",
       "      <td>0.604</td>\n",
       "      <td>['Seweryn Goszczyński']</td>\n",
       "      <td>0.749</td>\n",
       "      <td>104300</td>\n",
       "      <td>0.2200</td>\n",
       "      <td>0</td>\n",
       "      <td>6L63VW0PibdM1HDSBoqnoM</td>\n",
       "      <td>0.000</td>\n",
       "      <td>5</td>\n",
       "      <td>0.1190</td>\n",
       "      <td>-19.924</td>\n",
       "      <td>0</td>\n",
       "      <td>Chapter 1.18 - Zamek kaniowski</td>\n",
       "      <td>0</td>\n",
       "      <td>1928</td>\n",
       "      <td>0.9290</td>\n",
       "      <td>107.177</td>\n",
       "      <td>0.8800</td>\n",
       "      <td>1928</td>\n",
       "    </tr>\n",
       "    <tr>\n",
       "      <th>3</th>\n",
       "      <td>0.995</td>\n",
       "      <td>['Francisco Canaro']</td>\n",
       "      <td>0.781</td>\n",
       "      <td>180760</td>\n",
       "      <td>0.1300</td>\n",
       "      <td>0</td>\n",
       "      <td>6M94FkXd15sOAOQYRnWPN8</td>\n",
       "      <td>0.887</td>\n",
       "      <td>1</td>\n",
       "      <td>0.1110</td>\n",
       "      <td>-14.734</td>\n",
       "      <td>0</td>\n",
       "      <td>Bebamos Juntos - Instrumental (Remasterizado)</td>\n",
       "      <td>0</td>\n",
       "      <td>1928-09-25</td>\n",
       "      <td>0.0926</td>\n",
       "      <td>108.003</td>\n",
       "      <td>0.7200</td>\n",
       "      <td>1928</td>\n",
       "    </tr>\n",
       "    <tr>\n",
       "      <th>4</th>\n",
       "      <td>0.990</td>\n",
       "      <td>['Frédéric Chopin', 'Vladimir Horowitz']</td>\n",
       "      <td>0.210</td>\n",
       "      <td>687733</td>\n",
       "      <td>0.2040</td>\n",
       "      <td>0</td>\n",
       "      <td>6N6tiFZ9vLTSOIxkj8qKrd</td>\n",
       "      <td>0.908</td>\n",
       "      <td>11</td>\n",
       "      <td>0.0980</td>\n",
       "      <td>-16.829</td>\n",
       "      <td>1</td>\n",
       "      <td>Polonaise-Fantaisie in A-Flat Major, Op. 61</td>\n",
       "      <td>1</td>\n",
       "      <td>1928</td>\n",
       "      <td>0.0424</td>\n",
       "      <td>62.149</td>\n",
       "      <td>0.0693</td>\n",
       "      <td>1928</td>\n",
       "    </tr>\n",
       "  </tbody>\n",
       "</table>\n",
       "</div>"
      ],
      "text/plain": [
       "   acousticness                                   artists  danceability  \\\n",
       "0         0.995                       ['Carl Woitschach']         0.708   \n",
       "1         0.994  ['Robert Schumann', 'Vladimir Horowitz']         0.379   \n",
       "2         0.604                   ['Seweryn Goszczyński']         0.749   \n",
       "3         0.995                      ['Francisco Canaro']         0.781   \n",
       "4         0.990  ['Frédéric Chopin', 'Vladimir Horowitz']         0.210   \n",
       "\n",
       "   duration_ms  energy  explicit                      id  instrumentalness  \\\n",
       "0       158648  0.1950         0  6KbQ3uYMLKb5jDxLF7wYDD             0.563   \n",
       "1       282133  0.0135         0  6KuQTIu1KoTTkLXKrwlLPV             0.901   \n",
       "2       104300  0.2200         0  6L63VW0PibdM1HDSBoqnoM             0.000   \n",
       "3       180760  0.1300         0  6M94FkXd15sOAOQYRnWPN8             0.887   \n",
       "4       687733  0.2040         0  6N6tiFZ9vLTSOIxkj8qKrd             0.908   \n",
       "\n",
       "   key  liveness  loudness  mode  \\\n",
       "0   10    0.1510   -12.428     1   \n",
       "1    8    0.0763   -28.454     1   \n",
       "2    5    0.1190   -19.924     0   \n",
       "3    1    0.1110   -14.734     0   \n",
       "4   11    0.0980   -16.829     1   \n",
       "\n",
       "                                            name  popularity release_date  \\\n",
       "0                    Singende Bataillone 1. Teil           0         1928   \n",
       "1       Fantasiestücke, Op. 111: Più tosto lento           0         1928   \n",
       "2                 Chapter 1.18 - Zamek kaniowski           0         1928   \n",
       "3  Bebamos Juntos - Instrumental (Remasterizado)           0   1928-09-25   \n",
       "4    Polonaise-Fantaisie in A-Flat Major, Op. 61           1         1928   \n",
       "\n",
       "   speechiness    tempo  valence  year  \n",
       "0       0.0506  118.469   0.7790  1928  \n",
       "1       0.0462   83.972   0.0767  1928  \n",
       "2       0.9290  107.177   0.8800  1928  \n",
       "3       0.0926  108.003   0.7200  1928  \n",
       "4       0.0424   62.149   0.0693  1928  "
      ]
     },
     "execution_count": 17,
     "metadata": {},
     "output_type": "execute_result"
    }
   ],
   "source": [
    "df = pd.read_csv(\"data.csv\")\n",
    "print(\"df shape: \", df.shape)\n",
    "df.head(5)"
   ]
  },
  {
   "cell_type": "code",
   "execution_count": 3,
   "metadata": {
    "scrolled": false
   },
   "outputs": [
    {
     "name": "stderr",
     "output_type": "stream",
     "text": [
      "/home/cs582/anaconda3/envs/py36/lib/python3.6/site-packages/seaborn/_decorators.py:43: FutureWarning: Pass the following variables as keyword args: x, y. From version 0.12, the only valid positional argument will be `data`, and passing other arguments without an explicit keyword will result in an error or misinterpretation.\n",
      "  FutureWarning\n"
     ]
    },
    {
     "data": {
      "text/plain": [
       "(array([ 0,  1,  2,  3,  4,  5,  6,  7,  8,  9, 10, 11, 12, 13, 14, 15, 16,\n",
       "        17, 18, 19, 20, 21, 22, 23, 24, 25, 26, 27, 28, 29, 30, 31, 32, 33,\n",
       "        34, 35, 36, 37, 38, 39, 40, 41, 42, 43, 44, 45, 46, 47, 48, 49, 50,\n",
       "        51, 52, 53, 54, 55, 56, 57, 58, 59, 60, 61, 62, 63, 64, 65, 66, 67,\n",
       "        68, 69, 70, 71, 72, 73, 74, 75, 76, 77, 78, 79, 80, 81, 82, 83, 84,\n",
       "        85, 86, 87, 88, 89, 90, 91, 92, 93, 94, 95, 96, 97, 98, 99]),\n",
       " <a list of 100 Text xticklabel objects>)"
      ]
     },
     "execution_count": 3,
     "metadata": {},
     "output_type": "execute_result"
    },
    {
     "data": {
      "image/png": "[encoded data removed]",
      "text/plain": [
       "<Figure size 1152x360 with 1 Axes>"
      ]
     },
     "metadata": {
      "needs_background": "light"
     },
     "output_type": "display_data"
    }
   ],
   "source": [
    "songs_per_year = df.groupby(\"year\").count()[\"name\"]\n",
    "y = songs_per_year.values\n",
    "x = songs_per_year.index\n",
    "figure = plt.figure(figsize = (16, 5))\n",
    "sns.barplot(x, y)\n",
    "plt.xticks(rotation = 90)"
   ]
  },
  {
   "cell_type": "markdown",
   "metadata": {},
   "source": [
    "## Data cleaning find the genre of each song\n",
    "\n",
    "Find missing values, outliers, duplicates, find hidden metrics, etc..."
   ]
  },
  {
   "cell_type": "code",
   "execution_count": 18,
   "metadata": {
    "scrolled": true
   },
   "outputs": [
    {
     "data": {
      "text/html": [
       "<div>\n",
       "<style scoped>\n",
       "    .dataframe tbody tr th:only-of-type {\n",
       "        vertical-align: middle;\n",
       "    }\n",
       "\n",
       "    .dataframe tbody tr th {\n",
       "        vertical-align: top;\n",
       "    }\n",
       "\n",
       "    .dataframe thead th {\n",
       "        text-align: right;\n",
       "    }\n",
       "</style>\n",
       "<table border=\"1\" class=\"dataframe\">\n",
       "  <thead>\n",
       "    <tr style=\"text-align: right;\">\n",
       "      <th></th>\n",
       "      <th>acousticness</th>\n",
       "      <th>artists</th>\n",
       "      <th>danceability</th>\n",
       "      <th>duration_ms</th>\n",
       "      <th>energy</th>\n",
       "      <th>explicit</th>\n",
       "      <th>id</th>\n",
       "      <th>instrumentalness</th>\n",
       "      <th>key</th>\n",
       "      <th>liveness</th>\n",
       "      <th>loudness</th>\n",
       "      <th>mode</th>\n",
       "      <th>name</th>\n",
       "      <th>popularity</th>\n",
       "      <th>release_date</th>\n",
       "      <th>speechiness</th>\n",
       "      <th>tempo</th>\n",
       "      <th>valence</th>\n",
       "      <th>year</th>\n",
       "    </tr>\n",
       "  </thead>\n",
       "  <tbody>\n",
       "    <tr>\n",
       "      <th>0</th>\n",
       "      <td>0.995</td>\n",
       "      <td>['Carl Woitschach']</td>\n",
       "      <td>0.708</td>\n",
       "      <td>158648</td>\n",
       "      <td>0.1950</td>\n",
       "      <td>0</td>\n",
       "      <td>6KbQ3uYMLKb5jDxLF7wYDD</td>\n",
       "      <td>0.563</td>\n",
       "      <td>10</td>\n",
       "      <td>0.1510</td>\n",
       "      <td>-12.428</td>\n",
       "      <td>1</td>\n",
       "      <td>Singende Bataillone 1. Teil</td>\n",
       "      <td>0</td>\n",
       "      <td>1928</td>\n",
       "      <td>0.0506</td>\n",
       "      <td>118.469</td>\n",
       "      <td>0.7790</td>\n",
       "      <td>1928</td>\n",
       "    </tr>\n",
       "    <tr>\n",
       "      <th>1</th>\n",
       "      <td>0.994</td>\n",
       "      <td>['Robert Schumann', 'Vladimir Horowitz']</td>\n",
       "      <td>0.379</td>\n",
       "      <td>282133</td>\n",
       "      <td>0.0135</td>\n",
       "      <td>0</td>\n",
       "      <td>6KuQTIu1KoTTkLXKrwlLPV</td>\n",
       "      <td>0.901</td>\n",
       "      <td>8</td>\n",
       "      <td>0.0763</td>\n",
       "      <td>-28.454</td>\n",
       "      <td>1</td>\n",
       "      <td>Fantasiestücke, Op. 111: Più tosto lento</td>\n",
       "      <td>0</td>\n",
       "      <td>1928</td>\n",
       "      <td>0.0462</td>\n",
       "      <td>83.972</td>\n",
       "      <td>0.0767</td>\n",
       "      <td>1928</td>\n",
       "    </tr>\n",
       "    <tr>\n",
       "      <th>2</th>\n",
       "      <td>0.604</td>\n",
       "      <td>['Seweryn Goszczyński']</td>\n",
       "      <td>0.749</td>\n",
       "      <td>104300</td>\n",
       "      <td>0.2200</td>\n",
       "      <td>0</td>\n",
       "      <td>6L63VW0PibdM1HDSBoqnoM</td>\n",
       "      <td>0.000</td>\n",
       "      <td>5</td>\n",
       "      <td>0.1190</td>\n",
       "      <td>-19.924</td>\n",
       "      <td>0</td>\n",
       "      <td>Chapter 1.18 - Zamek kaniowski</td>\n",
       "      <td>0</td>\n",
       "      <td>1928</td>\n",
       "      <td>0.9290</td>\n",
       "      <td>107.177</td>\n",
       "      <td>0.8800</td>\n",
       "      <td>1928</td>\n",
       "    </tr>\n",
       "    <tr>\n",
       "      <th>3</th>\n",
       "      <td>0.995</td>\n",
       "      <td>['Francisco Canaro']</td>\n",
       "      <td>0.781</td>\n",
       "      <td>180760</td>\n",
       "      <td>0.1300</td>\n",
       "      <td>0</td>\n",
       "      <td>6M94FkXd15sOAOQYRnWPN8</td>\n",
       "      <td>0.887</td>\n",
       "      <td>1</td>\n",
       "      <td>0.1110</td>\n",
       "      <td>-14.734</td>\n",
       "      <td>0</td>\n",
       "      <td>Bebamos Juntos - Instrumental (Remasterizado)</td>\n",
       "      <td>0</td>\n",
       "      <td>1928-09-25</td>\n",
       "      <td>0.0926</td>\n",
       "      <td>108.003</td>\n",
       "      <td>0.7200</td>\n",
       "      <td>1928</td>\n",
       "    </tr>\n",
       "    <tr>\n",
       "      <th>4</th>\n",
       "      <td>0.990</td>\n",
       "      <td>['Frédéric Chopin', 'Vladimir Horowitz']</td>\n",
       "      <td>0.210</td>\n",
       "      <td>687733</td>\n",
       "      <td>0.2040</td>\n",
       "      <td>0</td>\n",
       "      <td>6N6tiFZ9vLTSOIxkj8qKrd</td>\n",
       "      <td>0.908</td>\n",
       "      <td>11</td>\n",
       "      <td>0.0980</td>\n",
       "      <td>-16.829</td>\n",
       "      <td>1</td>\n",
       "      <td>Polonaise-Fantaisie in A-Flat Major, Op. 61</td>\n",
       "      <td>1</td>\n",
       "      <td>1928</td>\n",
       "      <td>0.0424</td>\n",
       "      <td>62.149</td>\n",
       "      <td>0.0693</td>\n",
       "      <td>1928</td>\n",
       "    </tr>\n",
       "  </tbody>\n",
       "</table>\n",
       "</div>"
      ],
      "text/plain": [
       "   acousticness                                   artists  danceability  \\\n",
       "0         0.995                       ['Carl Woitschach']         0.708   \n",
       "1         0.994  ['Robert Schumann', 'Vladimir Horowitz']         0.379   \n",
       "2         0.604                   ['Seweryn Goszczyński']         0.749   \n",
       "3         0.995                      ['Francisco Canaro']         0.781   \n",
       "4         0.990  ['Frédéric Chopin', 'Vladimir Horowitz']         0.210   \n",
       "\n",
       "   duration_ms  energy  explicit                      id  instrumentalness  \\\n",
       "0       158648  0.1950         0  6KbQ3uYMLKb5jDxLF7wYDD             0.563   \n",
       "1       282133  0.0135         0  6KuQTIu1KoTTkLXKrwlLPV             0.901   \n",
       "2       104300  0.2200         0  6L63VW0PibdM1HDSBoqnoM             0.000   \n",
       "3       180760  0.1300         0  6M94FkXd15sOAOQYRnWPN8             0.887   \n",
       "4       687733  0.2040         0  6N6tiFZ9vLTSOIxkj8qKrd             0.908   \n",
       "\n",
       "   key  liveness  loudness  mode  \\\n",
       "0   10    0.1510   -12.428     1   \n",
       "1    8    0.0763   -28.454     1   \n",
       "2    5    0.1190   -19.924     0   \n",
       "3    1    0.1110   -14.734     0   \n",
       "4   11    0.0980   -16.829     1   \n",
       "\n",
       "                                            name  popularity release_date  \\\n",
       "0                    Singende Bataillone 1. Teil           0         1928   \n",
       "1       Fantasiestücke, Op. 111: Più tosto lento           0         1928   \n",
       "2                 Chapter 1.18 - Zamek kaniowski           0         1928   \n",
       "3  Bebamos Juntos - Instrumental (Remasterizado)           0   1928-09-25   \n",
       "4    Polonaise-Fantaisie in A-Flat Major, Op. 61           1         1928   \n",
       "\n",
       "   speechiness    tempo  valence  year  \n",
       "0       0.0506  118.469   0.7790  1928  \n",
       "1       0.0462   83.972   0.0767  1928  \n",
       "2       0.9290  107.177   0.8800  1928  \n",
       "3       0.0926  108.003   0.7200  1928  \n",
       "4       0.0424   62.149   0.0693  1928  "
      ]
     },
     "execution_count": 18,
     "metadata": {},
     "output_type": "execute_result"
    }
   ],
   "source": [
    "df.head(5)"
   ]
  },
  {
   "cell_type": "markdown",
   "metadata": {},
   "source": [
    "## Find missing values and duplicates\n",
    "Find if there are missing values in the dataset or duplicate songs"
   ]
  },
  {
   "cell_type": "code",
   "execution_count": 7,
   "metadata": {},
   "outputs": [
    {
     "data": {
      "text/plain": [
       "acousticness        False\n",
       "artists             False\n",
       "danceability        False\n",
       "duration_ms         False\n",
       "energy              False\n",
       "explicit            False\n",
       "id                  False\n",
       "instrumentalness    False\n",
       "key                 False\n",
       "liveness            False\n",
       "loudness            False\n",
       "mode                False\n",
       "name                False\n",
       "popularity          False\n",
       "release_date        False\n",
       "speechiness         False\n",
       "tempo               False\n",
       "valence             False\n",
       "year                False\n",
       "dtype: bool"
      ]
     },
     "execution_count": 7,
     "metadata": {},
     "output_type": "execute_result"
    }
   ],
   "source": [
    "df_2020.isnull().any()"
   ]
  },
  {
   "cell_type": "code",
   "execution_count": 8,
   "metadata": {},
   "outputs": [
    {
     "name": "stdout",
     "output_type": "stream",
     "text": [
      "df_2020 shape before clearning  (1756, 19)\n",
      "df_unique shape after cleaning (1606, 19)\n"
     ]
    }
   ],
   "source": [
    "print(\"df_2020 shape before clearning \", df_2020.shape)\n",
    "df_unique = df_2020.drop_duplicates([\"name\", \"artists\"])\n",
    "print(\"df_unique shape after cleaning\", df_unique.shape)"
   ]
  },
  {
   "cell_type": "markdown",
   "metadata": {},
   "source": [
    "## Creating new columns in de dataframe\n",
    "Simply find the number of days since the release up to October 12th and convert duration from ms to seconds"
   ]
  },
  {
   "cell_type": "code",
   "execution_count": 9,
   "metadata": {},
   "outputs": [
    {
     "name": "stdout",
     "output_type": "stream",
     "text": [
      "1606 songs\n",
      "1606 songs\n"
     ]
    },
    {
     "data": {
      "text/plain": [
       "87942    206\n",
       "87940    178\n",
       "87949    247\n",
       "87941    171\n",
       "87946    192\n",
       "Name: release_date, dtype: int64"
      ]
     },
     "execution_count": 9,
     "metadata": {},
     "output_type": "execute_result"
    }
   ],
   "source": [
    "def strToDate(x):\n",
    "    return datetime.strptime(x, \"%Y-%m-%d\")\n",
    "\n",
    "all_dates = df_unique[\"release_date\"].apply(lambda x: strToDate(x))\n",
    "date = strToDate(\"2020-10-12\")\n",
    "days_from_release = (date - all_dates).apply(lambda x: int(str(x).split()[0]))\n",
    "print(days_from_release.shape[0], \"songs\")\n",
    "duration_sec = df_unique[\"duration_ms\"] / 1000\n",
    "print(duration_sec.shape[0], \"songs\")\n",
    "days_from_release.head(5)"
   ]
  },
  {
   "cell_type": "code",
   "execution_count": 10,
   "metadata": {},
   "outputs": [
    {
     "name": "stdout",
     "output_type": "stream",
     "text": [
      "(1606, 19)\n",
      "(1606, 20)\n",
      "(1606, 21)\n"
     ]
    },
    {
     "name": "stderr",
     "output_type": "stream",
     "text": [
      "/home/cs582/anaconda3/envs/py36/lib/python3.6/site-packages/ipykernel_launcher.py:2: SettingWithCopyWarning: \n",
      "A value is trying to be set on a copy of a slice from a DataFrame.\n",
      "Try using .loc[row_indexer,col_indexer] = value instead\n",
      "\n",
      "See the caveats in the documentation: https://pandas.pydata.org/pandas-docs/stable/user_guide/indexing.html#returning-a-view-versus-a-copy\n",
      "  \n",
      "/home/cs582/anaconda3/envs/py36/lib/python3.6/site-packages/ipykernel_launcher.py:4: SettingWithCopyWarning: \n",
      "A value is trying to be set on a copy of a slice from a DataFrame.\n",
      "Try using .loc[row_indexer,col_indexer] = value instead\n",
      "\n",
      "See the caveats in the documentation: https://pandas.pydata.org/pandas-docs/stable/user_guide/indexing.html#returning-a-view-versus-a-copy\n",
      "  after removing the cwd from sys.path.\n"
     ]
    },
    {
     "data": {
      "text/html": [
       "<div>\n",
       "<style scoped>\n",
       "    .dataframe tbody tr th:only-of-type {\n",
       "        vertical-align: middle;\n",
       "    }\n",
       "\n",
       "    .dataframe tbody tr th {\n",
       "        vertical-align: top;\n",
       "    }\n",
       "\n",
       "    .dataframe thead th {\n",
       "        text-align: right;\n",
       "    }\n",
       "</style>\n",
       "<table border=\"1\" class=\"dataframe\">\n",
       "  <thead>\n",
       "    <tr style=\"text-align: right;\">\n",
       "      <th></th>\n",
       "      <th>acousticness</th>\n",
       "      <th>artists</th>\n",
       "      <th>danceability</th>\n",
       "      <th>duration_ms</th>\n",
       "      <th>energy</th>\n",
       "      <th>explicit</th>\n",
       "      <th>id</th>\n",
       "      <th>instrumentalness</th>\n",
       "      <th>key</th>\n",
       "      <th>liveness</th>\n",
       "      <th>...</th>\n",
       "      <th>mode</th>\n",
       "      <th>name</th>\n",
       "      <th>popularity</th>\n",
       "      <th>release_date</th>\n",
       "      <th>speechiness</th>\n",
       "      <th>tempo</th>\n",
       "      <th>valence</th>\n",
       "      <th>year</th>\n",
       "      <th>days_from_release</th>\n",
       "      <th>duration_sec</th>\n",
       "    </tr>\n",
       "  </thead>\n",
       "  <tbody>\n",
       "    <tr>\n",
       "      <th>87942</th>\n",
       "      <td>0.00146</td>\n",
       "      <td>['The Weeknd']</td>\n",
       "      <td>0.514</td>\n",
       "      <td>200040</td>\n",
       "      <td>0.730</td>\n",
       "      <td>0</td>\n",
       "      <td>0VjIjW4GlUZAMYd2vXMi3b</td>\n",
       "      <td>0.000095</td>\n",
       "      <td>1</td>\n",
       "      <td>0.0897</td>\n",
       "      <td>...</td>\n",
       "      <td>1</td>\n",
       "      <td>Blinding Lights</td>\n",
       "      <td>100</td>\n",
       "      <td>2020-03-20</td>\n",
       "      <td>0.0598</td>\n",
       "      <td>171.005</td>\n",
       "      <td>0.334</td>\n",
       "      <td>2020</td>\n",
       "      <td>206</td>\n",
       "      <td>200.040</td>\n",
       "    </tr>\n",
       "    <tr>\n",
       "      <th>87940</th>\n",
       "      <td>0.24700</td>\n",
       "      <td>['DaBaby', 'Roddy Ricch']</td>\n",
       "      <td>0.746</td>\n",
       "      <td>181733</td>\n",
       "      <td>0.690</td>\n",
       "      <td>1</td>\n",
       "      <td>7ytR5pFWmSjzHJIeQkgog4</td>\n",
       "      <td>0.000000</td>\n",
       "      <td>11</td>\n",
       "      <td>0.1010</td>\n",
       "      <td>...</td>\n",
       "      <td>1</td>\n",
       "      <td>ROCKSTAR (feat. Roddy Ricch)</td>\n",
       "      <td>99</td>\n",
       "      <td>2020-04-17</td>\n",
       "      <td>0.1640</td>\n",
       "      <td>89.977</td>\n",
       "      <td>0.497</td>\n",
       "      <td>2020</td>\n",
       "      <td>178</td>\n",
       "      <td>181.733</td>\n",
       "    </tr>\n",
       "    <tr>\n",
       "      <th>87949</th>\n",
       "      <td>0.73100</td>\n",
       "      <td>['Powfu', 'beabadoobee']</td>\n",
       "      <td>0.726</td>\n",
       "      <td>173333</td>\n",
       "      <td>0.431</td>\n",
       "      <td>0</td>\n",
       "      <td>7eJMfftS33KTjuF7lTsMCx</td>\n",
       "      <td>0.000000</td>\n",
       "      <td>8</td>\n",
       "      <td>0.6960</td>\n",
       "      <td>...</td>\n",
       "      <td>0</td>\n",
       "      <td>death bed (coffee for your head) (feat. beabad...</td>\n",
       "      <td>97</td>\n",
       "      <td>2020-02-08</td>\n",
       "      <td>0.1350</td>\n",
       "      <td>144.026</td>\n",
       "      <td>0.348</td>\n",
       "      <td>2020</td>\n",
       "      <td>247</td>\n",
       "      <td>173.333</td>\n",
       "    </tr>\n",
       "    <tr>\n",
       "      <th>87941</th>\n",
       "      <td>0.23300</td>\n",
       "      <td>['THE SCOTTS', 'Travis Scott', 'Kid Cudi']</td>\n",
       "      <td>0.716</td>\n",
       "      <td>165978</td>\n",
       "      <td>0.537</td>\n",
       "      <td>1</td>\n",
       "      <td>39Yp9wwQiSRIDOvrVg7mbk</td>\n",
       "      <td>0.000000</td>\n",
       "      <td>0</td>\n",
       "      <td>0.1570</td>\n",
       "      <td>...</td>\n",
       "      <td>0</td>\n",
       "      <td>THE SCOTTS</td>\n",
       "      <td>96</td>\n",
       "      <td>2020-04-24</td>\n",
       "      <td>0.0514</td>\n",
       "      <td>129.979</td>\n",
       "      <td>0.280</td>\n",
       "      <td>2020</td>\n",
       "      <td>171</td>\n",
       "      <td>165.978</td>\n",
       "    </tr>\n",
       "    <tr>\n",
       "      <th>87946</th>\n",
       "      <td>0.32100</td>\n",
       "      <td>['Drake']</td>\n",
       "      <td>0.834</td>\n",
       "      <td>247059</td>\n",
       "      <td>0.454</td>\n",
       "      <td>1</td>\n",
       "      <td>127QTOFJsJQp5LbJbu3A1y</td>\n",
       "      <td>0.000006</td>\n",
       "      <td>1</td>\n",
       "      <td>0.1140</td>\n",
       "      <td>...</td>\n",
       "      <td>0</td>\n",
       "      <td>Toosie Slide</td>\n",
       "      <td>95</td>\n",
       "      <td>2020-04-03</td>\n",
       "      <td>0.2010</td>\n",
       "      <td>81.618</td>\n",
       "      <td>0.837</td>\n",
       "      <td>2020</td>\n",
       "      <td>192</td>\n",
       "      <td>247.059</td>\n",
       "    </tr>\n",
       "  </tbody>\n",
       "</table>\n",
       "<p>5 rows × 21 columns</p>\n",
       "</div>"
      ],
      "text/plain": [
       "       acousticness                                     artists  danceability  \\\n",
       "87942       0.00146                              ['The Weeknd']         0.514   \n",
       "87940       0.24700                   ['DaBaby', 'Roddy Ricch']         0.746   \n",
       "87949       0.73100                    ['Powfu', 'beabadoobee']         0.726   \n",
       "87941       0.23300  ['THE SCOTTS', 'Travis Scott', 'Kid Cudi']         0.716   \n",
       "87946       0.32100                                   ['Drake']         0.834   \n",
       "\n",
       "       duration_ms  energy  explicit                      id  \\\n",
       "87942       200040   0.730         0  0VjIjW4GlUZAMYd2vXMi3b   \n",
       "87940       181733   0.690         1  7ytR5pFWmSjzHJIeQkgog4   \n",
       "87949       173333   0.431         0  7eJMfftS33KTjuF7lTsMCx   \n",
       "87941       165978   0.537         1  39Yp9wwQiSRIDOvrVg7mbk   \n",
       "87946       247059   0.454         1  127QTOFJsJQp5LbJbu3A1y   \n",
       "\n",
       "       instrumentalness  key  liveness  ...  mode  \\\n",
       "87942          0.000095    1    0.0897  ...     1   \n",
       "87940          0.000000   11    0.1010  ...     1   \n",
       "87949          0.000000    8    0.6960  ...     0   \n",
       "87941          0.000000    0    0.1570  ...     0   \n",
       "87946          0.000006    1    0.1140  ...     0   \n",
       "\n",
       "                                                    name popularity  \\\n",
       "87942                                    Blinding Lights        100   \n",
       "87940                       ROCKSTAR (feat. Roddy Ricch)         99   \n",
       "87949  death bed (coffee for your head) (feat. beabad...         97   \n",
       "87941                                         THE SCOTTS         96   \n",
       "87946                                       Toosie Slide         95   \n",
       "\n",
       "       release_date speechiness    tempo  valence  year  days_from_release  \\\n",
       "87942    2020-03-20      0.0598  171.005    0.334  2020                206   \n",
       "87940    2020-04-17      0.1640   89.977    0.497  2020                178   \n",
       "87949    2020-02-08      0.1350  144.026    0.348  2020                247   \n",
       "87941    2020-04-24      0.0514  129.979    0.280  2020                171   \n",
       "87946    2020-04-03      0.2010   81.618    0.837  2020                192   \n",
       "\n",
       "       duration_sec  \n",
       "87942       200.040  \n",
       "87940       181.733  \n",
       "87949       173.333  \n",
       "87941       165.978  \n",
       "87946       247.059  \n",
       "\n",
       "[5 rows x 21 columns]"
      ]
     },
     "execution_count": 10,
     "metadata": {},
     "output_type": "execute_result"
    }
   ],
   "source": [
    "print(df_unique.shape)\n",
    "df_unique[\"days_from_release\"] = days_from_release.values\n",
    "print(df_unique.shape)\n",
    "df_unique[\"duration_sec\"] = duration_sec.values\n",
    "print(df_unique.shape)\n",
    "df_unique.head(5)"
   ]
  },
  {
   "cell_type": "code",
   "execution_count": 11,
   "metadata": {},
   "outputs": [
    {
     "name": "stdout",
     "output_type": "stream",
     "text": [
      "(1606, 21)\n"
     ]
    }
   ],
   "source": [
    "print(df_unique.shape)"
   ]
  },
  {
   "cell_type": "code",
   "execution_count": 12,
   "metadata": {},
   "outputs": [
    {
     "name": "stderr",
     "output_type": "stream",
     "text": [
      "/home/cs582/anaconda3/envs/py36/lib/python3.6/site-packages/seaborn/_decorators.py:43: FutureWarning: Pass the following variables as keyword args: x, y. From version 0.12, the only valid positional argument will be `data`, and passing other arguments without an explicit keyword will result in an error or misinterpretation.\n",
      "  FutureWarning\n"
     ]
    },
    {
     "data": {
      "text/plain": [
       "Text(0.5, 1.0, 'songs released during the first half of 2020')"
      ]
     },
     "execution_count": 12,
     "metadata": {},
     "output_type": "execute_result"
    },
    {
     "data": {
      "image/png": "[encoded data removed]",
      "text/plain": [
       "<Figure size 1080x504 with 1 Axes>"
      ]
     },
     "metadata": {
      "needs_background": "light"
     },
     "output_type": "display_data"
    }
   ],
   "source": [
    "num_songs_2020 = df_unique[[\"release_date\", \"days_from_release\"]].groupby(\"release_date\").count()\n",
    "num_songs_2020 = num_songs_2020[\"days_from_release\"]\n",
    "dates_x = num_songs_2020.index\n",
    "num_songs_y = num_songs_2020.values\n",
    "\n",
    "plt.figure(figsize = (15, 7))\n",
    "fig = sns.lineplot(dates_x, num_songs_y, color = \"purple\", alpha = 0.8)\n",
    "fig.set(xticks=dates_x[2::5])\n",
    "plt.xticks(rotation = 45)\n",
    "plt.title(\"songs released during the first half of 2020\")"
   ]
  },
  {
   "cell_type": "code",
   "execution_count": 80,
   "metadata": {},
   "outputs": [
    {
     "name": "stdout",
     "output_type": "stream",
     "text": [
      "(1606, 17)\n"
     ]
    },
    {
     "data": {
      "text/html": [
       "<div>\n",
       "<style scoped>\n",
       "    .dataframe tbody tr th:only-of-type {\n",
       "        vertical-align: middle;\n",
       "    }\n",
       "\n",
       "    .dataframe tbody tr th {\n",
       "        vertical-align: top;\n",
       "    }\n",
       "\n",
       "    .dataframe thead th {\n",
       "        text-align: right;\n",
       "    }\n",
       "</style>\n",
       "<table border=\"1\" class=\"dataframe\">\n",
       "  <thead>\n",
       "    <tr style=\"text-align: right;\">\n",
       "      <th></th>\n",
       "      <th>acousticness</th>\n",
       "      <th>artists</th>\n",
       "      <th>danceability</th>\n",
       "      <th>energy</th>\n",
       "      <th>explicit</th>\n",
       "      <th>instrumentalness</th>\n",
       "      <th>key</th>\n",
       "      <th>liveness</th>\n",
       "      <th>loudness</th>\n",
       "      <th>name</th>\n",
       "      <th>popularity</th>\n",
       "      <th>release_date</th>\n",
       "      <th>speechiness</th>\n",
       "      <th>tempo</th>\n",
       "      <th>valence</th>\n",
       "      <th>days_from_release</th>\n",
       "      <th>duration_sec</th>\n",
       "    </tr>\n",
       "  </thead>\n",
       "  <tbody>\n",
       "    <tr>\n",
       "      <th>87942</th>\n",
       "      <td>0.00146</td>\n",
       "      <td>['The Weeknd']</td>\n",
       "      <td>0.514</td>\n",
       "      <td>0.730</td>\n",
       "      <td>0</td>\n",
       "      <td>0.000095</td>\n",
       "      <td>1</td>\n",
       "      <td>0.0897</td>\n",
       "      <td>-5.934</td>\n",
       "      <td>Blinding Lights</td>\n",
       "      <td>100</td>\n",
       "      <td>2020-03-20</td>\n",
       "      <td>0.0598</td>\n",
       "      <td>171.005</td>\n",
       "      <td>0.334</td>\n",
       "      <td>206</td>\n",
       "      <td>200.040</td>\n",
       "    </tr>\n",
       "    <tr>\n",
       "      <th>87940</th>\n",
       "      <td>0.24700</td>\n",
       "      <td>['DaBaby', 'Roddy Ricch']</td>\n",
       "      <td>0.746</td>\n",
       "      <td>0.690</td>\n",
       "      <td>1</td>\n",
       "      <td>0.000000</td>\n",
       "      <td>11</td>\n",
       "      <td>0.1010</td>\n",
       "      <td>-7.956</td>\n",
       "      <td>ROCKSTAR (feat. Roddy Ricch)</td>\n",
       "      <td>99</td>\n",
       "      <td>2020-04-17</td>\n",
       "      <td>0.1640</td>\n",
       "      <td>89.977</td>\n",
       "      <td>0.497</td>\n",
       "      <td>178</td>\n",
       "      <td>181.733</td>\n",
       "    </tr>\n",
       "    <tr>\n",
       "      <th>87949</th>\n",
       "      <td>0.73100</td>\n",
       "      <td>['Powfu', 'beabadoobee']</td>\n",
       "      <td>0.726</td>\n",
       "      <td>0.431</td>\n",
       "      <td>0</td>\n",
       "      <td>0.000000</td>\n",
       "      <td>8</td>\n",
       "      <td>0.6960</td>\n",
       "      <td>-8.765</td>\n",
       "      <td>death bed (coffee for your head) (feat. beabad...</td>\n",
       "      <td>97</td>\n",
       "      <td>2020-02-08</td>\n",
       "      <td>0.1350</td>\n",
       "      <td>144.026</td>\n",
       "      <td>0.348</td>\n",
       "      <td>247</td>\n",
       "      <td>173.333</td>\n",
       "    </tr>\n",
       "    <tr>\n",
       "      <th>87941</th>\n",
       "      <td>0.23300</td>\n",
       "      <td>['THE SCOTTS', 'Travis Scott', 'Kid Cudi']</td>\n",
       "      <td>0.716</td>\n",
       "      <td>0.537</td>\n",
       "      <td>1</td>\n",
       "      <td>0.000000</td>\n",
       "      <td>0</td>\n",
       "      <td>0.1570</td>\n",
       "      <td>-7.648</td>\n",
       "      <td>THE SCOTTS</td>\n",
       "      <td>96</td>\n",
       "      <td>2020-04-24</td>\n",
       "      <td>0.0514</td>\n",
       "      <td>129.979</td>\n",
       "      <td>0.280</td>\n",
       "      <td>171</td>\n",
       "      <td>165.978</td>\n",
       "    </tr>\n",
       "    <tr>\n",
       "      <th>87946</th>\n",
       "      <td>0.32100</td>\n",
       "      <td>['Drake']</td>\n",
       "      <td>0.834</td>\n",
       "      <td>0.454</td>\n",
       "      <td>1</td>\n",
       "      <td>0.000006</td>\n",
       "      <td>1</td>\n",
       "      <td>0.1140</td>\n",
       "      <td>-9.750</td>\n",
       "      <td>Toosie Slide</td>\n",
       "      <td>95</td>\n",
       "      <td>2020-04-03</td>\n",
       "      <td>0.2010</td>\n",
       "      <td>81.618</td>\n",
       "      <td>0.837</td>\n",
       "      <td>192</td>\n",
       "      <td>247.059</td>\n",
       "    </tr>\n",
       "  </tbody>\n",
       "</table>\n",
       "</div>"
      ],
      "text/plain": [
       "       acousticness                                     artists  danceability  \\\n",
       "87942       0.00146                              ['The Weeknd']         0.514   \n",
       "87940       0.24700                   ['DaBaby', 'Roddy Ricch']         0.746   \n",
       "87949       0.73100                    ['Powfu', 'beabadoobee']         0.726   \n",
       "87941       0.23300  ['THE SCOTTS', 'Travis Scott', 'Kid Cudi']         0.716   \n",
       "87946       0.32100                                   ['Drake']         0.834   \n",
       "\n",
       "       energy  explicit  instrumentalness  key  liveness  loudness  \\\n",
       "87942   0.730         0          0.000095    1    0.0897    -5.934   \n",
       "87940   0.690         1          0.000000   11    0.1010    -7.956   \n",
       "87949   0.431         0          0.000000    8    0.6960    -8.765   \n",
       "87941   0.537         1          0.000000    0    0.1570    -7.648   \n",
       "87946   0.454         1          0.000006    1    0.1140    -9.750   \n",
       "\n",
       "                                                    name  popularity  \\\n",
       "87942                                    Blinding Lights         100   \n",
       "87940                       ROCKSTAR (feat. Roddy Ricch)          99   \n",
       "87949  death bed (coffee for your head) (feat. beabad...          97   \n",
       "87941                                         THE SCOTTS          96   \n",
       "87946                                       Toosie Slide          95   \n",
       "\n",
       "      release_date  speechiness    tempo  valence  days_from_release  \\\n",
       "87942   2020-03-20       0.0598  171.005    0.334                206   \n",
       "87940   2020-04-17       0.1640   89.977    0.497                178   \n",
       "87949   2020-02-08       0.1350  144.026    0.348                247   \n",
       "87941   2020-04-24       0.0514  129.979    0.280                171   \n",
       "87946   2020-04-03       0.2010   81.618    0.837                192   \n",
       "\n",
       "       duration_sec  \n",
       "87942       200.040  \n",
       "87940       181.733  \n",
       "87949       173.333  \n",
       "87941       165.978  \n",
       "87946       247.059  "
      ]
     },
     "execution_count": 80,
     "metadata": {},
     "output_type": "execute_result"
    }
   ],
   "source": [
    "df_cleaned = df_unique.drop([\"duration_ms\", \"id\", \"mode\", \"year\"], axis = 1)\n",
    "print(df_cleaned.shape)\n",
    "df_cleaned.head(5)"
   ]
  },
  {
   "cell_type": "code",
   "execution_count": 81,
   "metadata": {},
   "outputs": [
    {
     "name": "stdout",
     "output_type": "stream",
     "text": [
      "319\n"
     ]
    },
    {
     "name": "stderr",
     "output_type": "stream",
     "text": [
      "/home/cs582/anaconda3/envs/py36/lib/python3.6/site-packages/seaborn/_decorators.py:43: FutureWarning: Pass the following variables as keyword args: x, y. From version 0.12, the only valid positional argument will be `data`, and passing other arguments without an explicit keyword will result in an error or misinterpretation.\n",
      "  FutureWarning\n"
     ]
    },
    {
     "data": {
      "text/plain": [
       "Text(0.5, 1.0, 'Release date of the most popular songs in 2020')"
      ]
     },
     "execution_count": 81,
     "metadata": {},
     "output_type": "execute_result"
    },
    {
     "data": {
      "image/png": "[encoded data removed]",
      "text/plain": [
       "<Figure size 1080x504 with 1 Axes>"
      ]
     },
     "metadata": {
      "needs_background": "light"
     },
     "output_type": "display_data"
    }
   ],
   "source": [
    "most_popular = df_cleaned[df_cleaned[\"popularity\"] > 75]\n",
    "print(most_popular.shape[0])\n",
    "\n",
    "most_popular = most_popular[[\"release_date\", \"days_from_release\"]].groupby(\"release_date\").count()\n",
    "most_popular = most_popular[\"days_from_release\"]\n",
    "dates_x = most_popular.index\n",
    "num_songs_y = most_popular.values\n",
    "\n",
    "plt.figure(figsize = (15, 7))\n",
    "fig = sns.lineplot(dates_x, num_songs_y, color = \"purple\", alpha = 0.8)\n",
    "\n",
    "fig.set(xticks=dates_x[2::5])\n",
    "plt.xticks(rotation = 45)\n",
    "plt.title(\"Release date of the most popular songs in 2020\")"
   ]
  },
  {
   "cell_type": "markdown",
   "metadata": {},
   "source": [
    "## What is the relationship between popularity and other parameters?\n",
    "\n",
    "This is done in order to train the model to identify succesful and not succesful songs"
   ]
  },
  {
   "cell_type": "code",
   "execution_count": 82,
   "metadata": {},
   "outputs": [],
   "source": [
    "df_cleaned.to_csv(r\"df_clean_2020.csv\", index = False, header = True)"
   ]
  },
  {
   "cell_type": "code",
   "execution_count": 76,
   "metadata": {},
   "outputs": [
    {
     "name": "stdout",
     "output_type": "stream",
     "text": [
      "2015 - 2020 is of shape  (7557, 19)\n",
      "2000 - 2012 is of shape  (4527, 19)\n",
      "1960 - 1975 is of shape  (4527, 19)\n"
     ]
    }
   ],
   "source": [
    "df_cleaned.head(5)\n",
    "mask_15_20 = (df[\"popularity\"] > 50) & (df[\"year\"] >= 2017)\n",
    "mask_00_12 = (df[\"popularity\"] > 50) & (df[\"year\"] >= 1998) & (df[\"year\"] <= 2004)\n",
    "mask_60_75 = (df[\"popularity\"] > 50) & (df[\"year\"] >= 1960) & (df[\"year\"] <= 1970)\n",
    "\n",
    "most_pop_15_20 = df[mask_15_20]\n",
    "print(\"2015 - 2020 is of shape \", most_pop_15_20.shape)\n",
    "most_pop_00_12 = df[mask_00_12]\n",
    "print(\"2000 - 2012 is of shape \", most_pop_00_12.shape)\n",
    "most_pop_60_75 = df[mask_60_75]\n",
    "print(\"1960 - 1975 is of shape \", most_pop_00_12.shape)"
   ]
  },
  {
   "cell_type": "code",
   "execution_count": 77,
   "metadata": {},
   "outputs": [
    {
     "data": {
      "text/plain": [
       "Text(0.5, 0, 'Danceability')"
      ]
     },
     "execution_count": 77,
     "metadata": {},
     "output_type": "execute_result"
    },
    {
     "data": {
      "image/png": "[encoded data removed]",
      "text/plain": [
       "<Figure size 1080x504 with 1 Axes>"
      ]
     },
     "metadata": {
      "needs_background": "light"
     },
     "output_type": "display_data"
    }
   ],
   "source": [
    "plt.figure(figsize = (15, 7))\n",
    "plt.scatter(most_pop_15_20.energy.values, most_pop_15_20.loudness.values, color = \"green\")\n",
    "plt.scatter(most_pop_00_12.energy.values, most_pop_00_12.loudness.values, color = \"blue\")\n",
    "plt.scatter(most_pop_60_75.energy.values, most_pop_60_75.loudness.values, color = \"red\")\n",
    "plt.ylabel(\"Popularity\", fontsize = 16)\n",
    "plt.xlabel(\"Danceability\", fontsize = 16)"
   ]
  },
  {
   "cell_type": "code",
   "execution_count": null,
   "metadata": {},
   "outputs": [],
   "source": [
    "plt.figure(figsize = (15, 7))\n",
    "plt.scatter(most_pop_15_20.danceability.values, most_pop_15_20.tempo.values, color = \"green\")\n",
    "plt.scatter(most_pop_00_12.danceability.values, most_pop_00_12.tempo.values, color = \"blue\")\n",
    "plt.scatter(most_pop_60_75.danceability.values, most_pop_60_75.tempo.values, color = \"red\")\n",
    "plt.ylabel(\"Popularity\", fontsize = 16)\n",
    "plt.xlabel(\"Danceability\", fontsize = 16)"
   ]
  },
  {
   "cell_type": "markdown",
   "metadata": {},
   "source": [
    "## Connect genres with artists and then with each song\n",
    "df_genres is an extention of data by artists, artists serve to classify each song with each genre. Am assuming that if there is more than 1 artist, that both do the same genere"
   ]
  },
  {
   "cell_type": "code",
   "execution_count": null,
   "metadata": {},
   "outputs": [],
   "source": []
  }
 ],
 "metadata": {
  "kernelspec": {
   "display_name": "Python 3",
   "language": "python",
   "name": "python3"
  },
  "language_info": {
   "codemirror_mode": {
    "name": "ipython",
    "version": 3
   },
   "file_extension": ".py",
   "mimetype": "text/x-python",
   "name": "python",
   "nbconvert_exporter": "python",
   "pygments_lexer": "ipython3",
   "version": "3.6.10"
  }
 },
 "nbformat": 4,
 "nbformat_minor": 4
}
