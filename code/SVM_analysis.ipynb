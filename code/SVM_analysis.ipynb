{
 "cells": [
  {
   "cell_type": "code",
   "execution_count": 1,
   "metadata": {},
   "outputs": [],
   "source": [
    "import pandas as pd\n",
    "from sklearn.model_selection import train_test_split\n",
    "from sklearn import svm\n",
    "from sklearn import metrics\n"
   ]
  },
  {
   "cell_type": "markdown",
   "metadata": {},
   "source": [
    "#### Reading the dataset"
   ]
  },
  {
   "cell_type": "code",
   "execution_count": 34,
   "metadata": {},
   "outputs": [
    {
     "name": "stdout",
     "output_type": "stream",
     "text": [
      "Index(['Unnamed: 0', 'Unnamed: 0.1', 'artist', 'album', 'track_name',\n",
      "       'track_id', 'danceability', 'energy', 'key', 'loudness', 'mode',\n",
      "       'speechiness', 'instrumentalness', 'liveness', 'valence', 'tempo',\n",
      "       'duration_ms', 'time_signature', 'label'],\n",
      "      dtype='object')\n"
     ]
    },
    {
     "data": {
      "text/html": [
       "<div>\n",
       "<style scoped>\n",
       "    .dataframe tbody tr th:only-of-type {\n",
       "        vertical-align: middle;\n",
       "    }\n",
       "\n",
       "    .dataframe tbody tr th {\n",
       "        vertical-align: top;\n",
       "    }\n",
       "\n",
       "    .dataframe thead th {\n",
       "        text-align: right;\n",
       "    }\n",
       "</style>\n",
       "<table border=\"1\" class=\"dataframe\">\n",
       "  <thead>\n",
       "    <tr style=\"text-align: right;\">\n",
       "      <th></th>\n",
       "      <th>Unnamed: 0</th>\n",
       "      <th>Unnamed: 0.1</th>\n",
       "      <th>artist</th>\n",
       "      <th>album</th>\n",
       "      <th>track_name</th>\n",
       "      <th>track_id</th>\n",
       "      <th>danceability</th>\n",
       "      <th>energy</th>\n",
       "      <th>key</th>\n",
       "      <th>loudness</th>\n",
       "      <th>mode</th>\n",
       "      <th>speechiness</th>\n",
       "      <th>instrumentalness</th>\n",
       "      <th>liveness</th>\n",
       "      <th>valence</th>\n",
       "      <th>tempo</th>\n",
       "      <th>duration_ms</th>\n",
       "      <th>time_signature</th>\n",
       "      <th>label</th>\n",
       "    </tr>\n",
       "  </thead>\n",
       "  <tbody>\n",
       "    <tr>\n",
       "      <th>0</th>\n",
       "      <td>96</td>\n",
       "      <td>96</td>\n",
       "      <td>Portugal. The Man</td>\n",
       "      <td>Woodstock</td>\n",
       "      <td>Feel It Still</td>\n",
       "      <td>6QgjcU0zLnzq5OrUoSZ3OK</td>\n",
       "      <td>0.801</td>\n",
       "      <td>0.795</td>\n",
       "      <td>1</td>\n",
       "      <td>-5.115</td>\n",
       "      <td>0</td>\n",
       "      <td>0.0504</td>\n",
       "      <td>0.000113</td>\n",
       "      <td>0.0717</td>\n",
       "      <td>0.754</td>\n",
       "      <td>79.028</td>\n",
       "      <td>163253</td>\n",
       "      <td>4</td>\n",
       "      <td>1</td>\n",
       "    </tr>\n",
       "    <tr>\n",
       "      <th>1</th>\n",
       "      <td>54</td>\n",
       "      <td>54</td>\n",
       "      <td>Sia</td>\n",
       "      <td>Colour The Small One</td>\n",
       "      <td>Breathe Me</td>\n",
       "      <td>7jqzZyJJLrpkRFYGpkqSK6</td>\n",
       "      <td>0.552</td>\n",
       "      <td>0.643</td>\n",
       "      <td>0</td>\n",
       "      <td>-7.360</td>\n",
       "      <td>1</td>\n",
       "      <td>0.0327</td>\n",
       "      <td>0.740000</td>\n",
       "      <td>0.1050</td>\n",
       "      <td>0.212</td>\n",
       "      <td>120.012</td>\n",
       "      <td>272800</td>\n",
       "      <td>4</td>\n",
       "      <td>0</td>\n",
       "    </tr>\n",
       "    <tr>\n",
       "      <th>2</th>\n",
       "      <td>69</td>\n",
       "      <td>69</td>\n",
       "      <td>Olivia O'Brien</td>\n",
       "      <td>hate u love u</td>\n",
       "      <td>hate u love u</td>\n",
       "      <td>6ATgDc6e4sPn84hvJsAmPt</td>\n",
       "      <td>0.407</td>\n",
       "      <td>0.416</td>\n",
       "      <td>6</td>\n",
       "      <td>-8.915</td>\n",
       "      <td>0</td>\n",
       "      <td>0.1740</td>\n",
       "      <td>0.000000</td>\n",
       "      <td>0.0981</td>\n",
       "      <td>0.246</td>\n",
       "      <td>176.947</td>\n",
       "      <td>175467</td>\n",
       "      <td>4</td>\n",
       "      <td>0</td>\n",
       "    </tr>\n",
       "    <tr>\n",
       "      <th>3</th>\n",
       "      <td>26</td>\n",
       "      <td>26</td>\n",
       "      <td>Jeremy Benjamin</td>\n",
       "      <td>Wonderlove</td>\n",
       "      <td>Wonderlove</td>\n",
       "      <td>7IqI28al5iZVVfxr64g6nR</td>\n",
       "      <td>0.724</td>\n",
       "      <td>0.767</td>\n",
       "      <td>6</td>\n",
       "      <td>-6.908</td>\n",
       "      <td>0</td>\n",
       "      <td>0.0555</td>\n",
       "      <td>0.000009</td>\n",
       "      <td>0.1720</td>\n",
       "      <td>0.740</td>\n",
       "      <td>104.989</td>\n",
       "      <td>194813</td>\n",
       "      <td>4</td>\n",
       "      <td>1</td>\n",
       "    </tr>\n",
       "    <tr>\n",
       "      <th>4</th>\n",
       "      <td>30</td>\n",
       "      <td>30</td>\n",
       "      <td>Chicago</td>\n",
       "      <td>Chicago V (Expanded &amp; Remastered)</td>\n",
       "      <td>Saturday in the Park - 2002 Remaster</td>\n",
       "      <td>4OJFkrRQqol4FsPesF8eu4</td>\n",
       "      <td>0.668</td>\n",
       "      <td>0.760</td>\n",
       "      <td>7</td>\n",
       "      <td>-6.831</td>\n",
       "      <td>1</td>\n",
       "      <td>0.0340</td>\n",
       "      <td>0.000000</td>\n",
       "      <td>0.0803</td>\n",
       "      <td>0.610</td>\n",
       "      <td>114.378</td>\n",
       "      <td>235667</td>\n",
       "      <td>4</td>\n",
       "      <td>1</td>\n",
       "    </tr>\n",
       "  </tbody>\n",
       "</table>\n",
       "</div>"
      ],
      "text/plain": [
       "   Unnamed: 0  Unnamed: 0.1             artist  \\\n",
       "0          96            96  Portugal. The Man   \n",
       "1          54            54                Sia   \n",
       "2          69            69     Olivia O'Brien   \n",
       "3          26            26    Jeremy Benjamin   \n",
       "4          30            30            Chicago   \n",
       "\n",
       "                               album                            track_name  \\\n",
       "0                          Woodstock                         Feel It Still   \n",
       "1               Colour The Small One                            Breathe Me   \n",
       "2                      hate u love u                         hate u love u   \n",
       "3                         Wonderlove                            Wonderlove   \n",
       "4  Chicago V (Expanded & Remastered)  Saturday in the Park - 2002 Remaster   \n",
       "\n",
       "                 track_id  danceability  energy  key  loudness  mode  \\\n",
       "0  6QgjcU0zLnzq5OrUoSZ3OK         0.801   0.795    1    -5.115     0   \n",
       "1  7jqzZyJJLrpkRFYGpkqSK6         0.552   0.643    0    -7.360     1   \n",
       "2  6ATgDc6e4sPn84hvJsAmPt         0.407   0.416    6    -8.915     0   \n",
       "3  7IqI28al5iZVVfxr64g6nR         0.724   0.767    6    -6.908     0   \n",
       "4  4OJFkrRQqol4FsPesF8eu4         0.668   0.760    7    -6.831     1   \n",
       "\n",
       "   speechiness  instrumentalness  liveness  valence    tempo  duration_ms  \\\n",
       "0       0.0504          0.000113    0.0717    0.754   79.028       163253   \n",
       "1       0.0327          0.740000    0.1050    0.212  120.012       272800   \n",
       "2       0.1740          0.000000    0.0981    0.246  176.947       175467   \n",
       "3       0.0555          0.000009    0.1720    0.740  104.989       194813   \n",
       "4       0.0340          0.000000    0.0803    0.610  114.378       235667   \n",
       "\n",
       "   time_signature  label  \n",
       "0               4      1  \n",
       "1               4      0  \n",
       "2               4      0  \n",
       "3               4      1  \n",
       "4               4      1  "
      ]
     },
     "execution_count": 34,
     "metadata": {},
     "output_type": "execute_result"
    }
   ],
   "source": [
    "mix_df = pd.read_csv(\"Mix_playlist.csv\")\n",
    "print(mix_df.columns)\n",
    "mix_df.head()"
   ]
  },
  {
   "cell_type": "code",
   "execution_count": 42,
   "metadata": {},
   "outputs": [],
   "source": [
    "mix_df_features = mix_df.drop([\"Unnamed: 0\",\"Unnamed: 0.1\",\"artist\", \"album\", \"track_name\",\"track_id\",\"label\"], axis=1)"
   ]
  },
  {
   "cell_type": "code",
   "execution_count": 43,
   "metadata": {},
   "outputs": [],
   "source": [
    "X_train, x_test, Y_train, y_test = train_test_split(mix_df_features, mix_df.label,test_size=0.3,random_state=1)"
   ]
  },
  {
   "cell_type": "code",
   "execution_count": 44,
   "metadata": {},
   "outputs": [],
   "source": [
    "svm_clf = svm.SVC(kernel=\"linear\")"
   ]
  },
  {
   "cell_type": "code",
   "execution_count": 45,
   "metadata": {},
   "outputs": [
    {
     "data": {
      "text/plain": [
       "SVC(C=1.0, break_ties=False, cache_size=200, class_weight=None, coef0=0.0,\n",
       "    decision_function_shape='ovr', degree=3, gamma='scale', kernel='linear',\n",
       "    max_iter=-1, probability=False, random_state=None, shrinking=True,\n",
       "    tol=0.001, verbose=False)"
      ]
     },
     "execution_count": 45,
     "metadata": {},
     "output_type": "execute_result"
    }
   ],
   "source": [
    "svm_clf.fit(X_train, Y_train)"
   ]
  },
  {
   "cell_type": "code",
   "execution_count": 46,
   "metadata": {},
   "outputs": [],
   "source": [
    "y_pred = svm_clf.predict(x_test)"
   ]
  },
  {
   "cell_type": "code",
   "execution_count": 47,
   "metadata": {},
   "outputs": [
    {
     "name": "stdout",
     "output_type": "stream",
     "text": [
      "Accuracy 0.5833333333333334\n"
     ]
    }
   ],
   "source": [
    "print(\"Accuracy {}\".format(metrics.accuracy_score(y_test, y_pred)))"
   ]
  },
  {
   "cell_type": "code",
   "execution_count": null,
   "metadata": {},
   "outputs": [],
   "source": []
  }
 ],
 "metadata": {
  "kernelspec": {
   "display_name": "Python 3",
   "language": "python",
   "name": "python3"
  },
  "language_info": {
   "codemirror_mode": {
    "name": "ipython",
    "version": 3
   },
   "file_extension": ".py",
   "mimetype": "text/x-python",
   "name": "python",
   "nbconvert_exporter": "python",
   "pygments_lexer": "ipython3",
   "version": "3.7.6"
  }
 },
 "nbformat": 4,
 "nbformat_minor": 4
}
