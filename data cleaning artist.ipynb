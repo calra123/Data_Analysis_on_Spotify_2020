{
 "cells": [
  {
   "cell_type": "code",
   "execution_count": 32,
   "metadata": {},
   "outputs": [],
   "source": [
    "import pandas as pd\n",
    "import seaborn as sns\n",
    "import numpy as np\n",
    "from sklearn.preprocessing import StandardScaler\n",
    "import matplotlib.pyplot as plt"
   ]
  },
  {
   "cell_type": "code",
   "execution_count": 12,
   "metadata": {},
   "outputs": [
    {
     "data": {
      "text/html": [
       "<div>\n",
       "<style scoped>\n",
       "    .dataframe tbody tr th:only-of-type {\n",
       "        vertical-align: middle;\n",
       "    }\n",
       "\n",
       "    .dataframe tbody tr th {\n",
       "        vertical-align: top;\n",
       "    }\n",
       "\n",
       "    .dataframe thead th {\n",
       "        text-align: right;\n",
       "    }\n",
       "</style>\n",
       "<table border=\"1\" class=\"dataframe\">\n",
       "  <thead>\n",
       "    <tr style=\"text-align: right;\">\n",
       "      <th></th>\n",
       "      <th>artists</th>\n",
       "      <th>acousticness</th>\n",
       "      <th>danceability</th>\n",
       "      <th>duration_ms</th>\n",
       "      <th>energy</th>\n",
       "      <th>instrumentalness</th>\n",
       "      <th>liveness</th>\n",
       "      <th>loudness</th>\n",
       "      <th>speechiness</th>\n",
       "      <th>tempo</th>\n",
       "      <th>valence</th>\n",
       "      <th>popularity</th>\n",
       "      <th>key</th>\n",
       "      <th>mode</th>\n",
       "      <th>count</th>\n",
       "    </tr>\n",
       "  </thead>\n",
       "  <tbody>\n",
       "    <tr>\n",
       "      <th>0</th>\n",
       "      <td>\"Cats\" 1981 Original London Cast</td>\n",
       "      <td>0.575083</td>\n",
       "      <td>0.442750</td>\n",
       "      <td>247260.000000</td>\n",
       "      <td>0.386336</td>\n",
       "      <td>0.022717</td>\n",
       "      <td>0.287708</td>\n",
       "      <td>-14.205417</td>\n",
       "      <td>0.180675</td>\n",
       "      <td>115.983500</td>\n",
       "      <td>0.334433</td>\n",
       "      <td>38.000000</td>\n",
       "      <td>5</td>\n",
       "      <td>1</td>\n",
       "      <td>12</td>\n",
       "    </tr>\n",
       "    <tr>\n",
       "      <th>1</th>\n",
       "      <td>\"Cats\" 1983 Broadway Cast</td>\n",
       "      <td>0.862538</td>\n",
       "      <td>0.441731</td>\n",
       "      <td>287280.000000</td>\n",
       "      <td>0.406808</td>\n",
       "      <td>0.081158</td>\n",
       "      <td>0.315215</td>\n",
       "      <td>-10.690000</td>\n",
       "      <td>0.176212</td>\n",
       "      <td>103.044154</td>\n",
       "      <td>0.268865</td>\n",
       "      <td>33.076923</td>\n",
       "      <td>5</td>\n",
       "      <td>1</td>\n",
       "      <td>26</td>\n",
       "    </tr>\n",
       "    <tr>\n",
       "      <th>2</th>\n",
       "      <td>\"Fiddler On The Roof” Motion Picture Chorus</td>\n",
       "      <td>0.856571</td>\n",
       "      <td>0.348286</td>\n",
       "      <td>328920.000000</td>\n",
       "      <td>0.286571</td>\n",
       "      <td>0.024593</td>\n",
       "      <td>0.325786</td>\n",
       "      <td>-15.230714</td>\n",
       "      <td>0.118514</td>\n",
       "      <td>77.375857</td>\n",
       "      <td>0.354857</td>\n",
       "      <td>34.285714</td>\n",
       "      <td>0</td>\n",
       "      <td>1</td>\n",
       "      <td>7</td>\n",
       "    </tr>\n",
       "    <tr>\n",
       "      <th>3</th>\n",
       "      <td>\"Fiddler On The Roof” Motion Picture Orchestra</td>\n",
       "      <td>0.884926</td>\n",
       "      <td>0.425074</td>\n",
       "      <td>262890.962963</td>\n",
       "      <td>0.245770</td>\n",
       "      <td>0.073587</td>\n",
       "      <td>0.275481</td>\n",
       "      <td>-15.639370</td>\n",
       "      <td>0.123200</td>\n",
       "      <td>88.667630</td>\n",
       "      <td>0.372030</td>\n",
       "      <td>34.444444</td>\n",
       "      <td>0</td>\n",
       "      <td>1</td>\n",
       "      <td>27</td>\n",
       "    </tr>\n",
       "    <tr>\n",
       "      <th>4</th>\n",
       "      <td>\"Joseph And The Amazing Technicolor Dreamcoat\"...</td>\n",
       "      <td>0.605444</td>\n",
       "      <td>0.437333</td>\n",
       "      <td>232428.111111</td>\n",
       "      <td>0.429333</td>\n",
       "      <td>0.037534</td>\n",
       "      <td>0.216111</td>\n",
       "      <td>-11.447222</td>\n",
       "      <td>0.086000</td>\n",
       "      <td>120.329667</td>\n",
       "      <td>0.458667</td>\n",
       "      <td>42.555556</td>\n",
       "      <td>11</td>\n",
       "      <td>1</td>\n",
       "      <td>9</td>\n",
       "    </tr>\n",
       "  </tbody>\n",
       "</table>\n",
       "</div>"
      ],
      "text/plain": [
       "                                             artists  acousticness  \\\n",
       "0                   \"Cats\" 1981 Original London Cast      0.575083   \n",
       "1                          \"Cats\" 1983 Broadway Cast      0.862538   \n",
       "2        \"Fiddler On The Roof” Motion Picture Chorus      0.856571   \n",
       "3     \"Fiddler On The Roof” Motion Picture Orchestra      0.884926   \n",
       "4  \"Joseph And The Amazing Technicolor Dreamcoat\"...      0.605444   \n",
       "\n",
       "   danceability    duration_ms    energy  instrumentalness  liveness  \\\n",
       "0      0.442750  247260.000000  0.386336          0.022717  0.287708   \n",
       "1      0.441731  287280.000000  0.406808          0.081158  0.315215   \n",
       "2      0.348286  328920.000000  0.286571          0.024593  0.325786   \n",
       "3      0.425074  262890.962963  0.245770          0.073587  0.275481   \n",
       "4      0.437333  232428.111111  0.429333          0.037534  0.216111   \n",
       "\n",
       "    loudness  speechiness       tempo   valence  popularity  key  mode  count  \n",
       "0 -14.205417     0.180675  115.983500  0.334433   38.000000    5     1     12  \n",
       "1 -10.690000     0.176212  103.044154  0.268865   33.076923    5     1     26  \n",
       "2 -15.230714     0.118514   77.375857  0.354857   34.285714    0     1      7  \n",
       "3 -15.639370     0.123200   88.667630  0.372030   34.444444    0     1     27  \n",
       "4 -11.447222     0.086000  120.329667  0.458667   42.555556   11     1      9  "
      ]
     },
     "execution_count": 12,
     "metadata": {},
     "output_type": "execute_result"
    }
   ],
   "source": [
    "artist_df = pd.read_csv(\"data_by_artist.csv\")\n",
    "artist_df_unique = artist_df.drop_duplicates([\"artists\"])\n",
    "artist_df_unique.head()"
   ]
  },
  {
   "cell_type": "markdown",
   "metadata": {},
   "source": [
    "#### Removing artist names for Normalization"
   ]
  },
  {
   "cell_type": "code",
   "execution_count": 18,
   "metadata": {},
   "outputs": [],
   "source": [
    "artist_df_temp = artist_df_unique.drop([\"artists\"],axis=1)"
   ]
  },
  {
   "cell_type": "code",
   "execution_count": 22,
   "metadata": {},
   "outputs": [],
   "source": [
    "artist_scaled = StandardScaler().fit_transform(artist_df_temp)"
   ]
  },
  {
   "cell_type": "code",
   "execution_count": 23,
   "metadata": {},
   "outputs": [
    {
     "name": "stdout",
     "output_type": "stream",
     "text": [
      "[[ 0.19046992 -0.57730632  0.08077245 ... -0.11760966  0.55090127\n",
      "  -0.04294901]\n",
      " [ 0.96783492 -0.58309428  0.41158607 ... -0.11760966  0.55090127\n",
      "   0.21695495]\n",
      " [ 0.95169827 -1.11374502  0.75579096 ... -1.55207768  0.55090127\n",
      "  -0.13577185]\n",
      " ...\n",
      " [ 0.75937686  0.14996037 -0.51999298 ... -0.11760966  0.55090127\n",
      "  -0.06151357]\n",
      " [ 1.137136   -1.26152763 -0.20251167 ...  1.31685837  0.55090127\n",
      "   0.51398805]\n",
      " [-0.33438969 -1.08697379  0.65031415 ...  1.60375198  0.55090127\n",
      "  -0.22859469]]\n"
     ]
    }
   ],
   "source": [
    "print(artist_scaled)"
   ]
  },
  {
   "cell_type": "code",
   "execution_count": 30,
   "metadata": {},
   "outputs": [],
   "source": [
    "scaled_features_df = pd.DataFrame(artist_scaled, index=artist_df_temp.index, columns=artist_df_temp.columns)"
   ]
  },
  {
   "cell_type": "code",
   "execution_count": 31,
   "metadata": {},
   "outputs": [
    {
     "data": {
      "text/html": [
       "<div>\n",
       "<style scoped>\n",
       "    .dataframe tbody tr th:only-of-type {\n",
       "        vertical-align: middle;\n",
       "    }\n",
       "\n",
       "    .dataframe tbody tr th {\n",
       "        vertical-align: top;\n",
       "    }\n",
       "\n",
       "    .dataframe thead th {\n",
       "        text-align: right;\n",
       "    }\n",
       "</style>\n",
       "<table border=\"1\" class=\"dataframe\">\n",
       "  <thead>\n",
       "    <tr style=\"text-align: right;\">\n",
       "      <th></th>\n",
       "      <th>acousticness</th>\n",
       "      <th>danceability</th>\n",
       "      <th>duration_ms</th>\n",
       "      <th>energy</th>\n",
       "      <th>instrumentalness</th>\n",
       "      <th>liveness</th>\n",
       "      <th>loudness</th>\n",
       "      <th>speechiness</th>\n",
       "      <th>tempo</th>\n",
       "      <th>valence</th>\n",
       "      <th>popularity</th>\n",
       "      <th>key</th>\n",
       "      <th>mode</th>\n",
       "      <th>count</th>\n",
       "    </tr>\n",
       "  </thead>\n",
       "  <tbody>\n",
       "    <tr>\n",
       "      <th>0</th>\n",
       "      <td>0.190470</td>\n",
       "      <td>-0.577306</td>\n",
       "      <td>0.080772</td>\n",
       "      <td>-0.423459</td>\n",
       "      <td>-0.492742</td>\n",
       "      <td>0.599432</td>\n",
       "      <td>-0.512596</td>\n",
       "      <td>0.728032</td>\n",
       "      <td>0.021651</td>\n",
       "      <td>-0.746399</td>\n",
       "      <td>0.167913</td>\n",
       "      <td>-0.117610</td>\n",
       "      <td>0.550901</td>\n",
       "      <td>-0.042949</td>\n",
       "    </tr>\n",
       "    <tr>\n",
       "      <th>1</th>\n",
       "      <td>0.967835</td>\n",
       "      <td>-0.583094</td>\n",
       "      <td>0.411586</td>\n",
       "      <td>-0.342721</td>\n",
       "      <td>-0.292690</td>\n",
       "      <td>0.795479</td>\n",
       "      <td>0.091503</td>\n",
       "      <td>0.689574</td>\n",
       "      <td>-0.493081</td>\n",
       "      <td>-1.015894</td>\n",
       "      <td>-0.054812</td>\n",
       "      <td>-0.117610</td>\n",
       "      <td>0.550901</td>\n",
       "      <td>0.216955</td>\n",
       "    </tr>\n",
       "    <tr>\n",
       "      <th>2</th>\n",
       "      <td>0.951698</td>\n",
       "      <td>-1.113745</td>\n",
       "      <td>0.755791</td>\n",
       "      <td>-0.816912</td>\n",
       "      <td>-0.486322</td>\n",
       "      <td>0.870815</td>\n",
       "      <td>-0.688786</td>\n",
       "      <td>0.192440</td>\n",
       "      <td>-1.514176</td>\n",
       "      <td>-0.662454</td>\n",
       "      <td>-0.000125</td>\n",
       "      <td>-1.552078</td>\n",
       "      <td>0.550901</td>\n",
       "      <td>-0.135772</td>\n",
       "    </tr>\n",
       "    <tr>\n",
       "      <th>3</th>\n",
       "      <td>1.028377</td>\n",
       "      <td>-0.677683</td>\n",
       "      <td>0.209981</td>\n",
       "      <td>-0.977824</td>\n",
       "      <td>-0.318606</td>\n",
       "      <td>0.512290</td>\n",
       "      <td>-0.759011</td>\n",
       "      <td>0.232813</td>\n",
       "      <td>-1.064985</td>\n",
       "      <td>-0.591872</td>\n",
       "      <td>0.007056</td>\n",
       "      <td>-1.552078</td>\n",
       "      <td>0.550901</td>\n",
       "      <td>0.235520</td>\n",
       "    </tr>\n",
       "    <tr>\n",
       "      <th>4</th>\n",
       "      <td>0.272575</td>\n",
       "      <td>-0.608066</td>\n",
       "      <td>-0.041831</td>\n",
       "      <td>-0.253884</td>\n",
       "      <td>-0.442024</td>\n",
       "      <td>0.089150</td>\n",
       "      <td>-0.038620</td>\n",
       "      <td>-0.087711</td>\n",
       "      <td>0.194543</td>\n",
       "      <td>-0.235780</td>\n",
       "      <td>0.374012</td>\n",
       "      <td>1.603752</td>\n",
       "      <td>0.550901</td>\n",
       "      <td>-0.098643</td>\n",
       "    </tr>\n",
       "  </tbody>\n",
       "</table>\n",
       "</div>"
      ],
      "text/plain": [
       "   acousticness  danceability  duration_ms    energy  instrumentalness  \\\n",
       "0      0.190470     -0.577306     0.080772 -0.423459         -0.492742   \n",
       "1      0.967835     -0.583094     0.411586 -0.342721         -0.292690   \n",
       "2      0.951698     -1.113745     0.755791 -0.816912         -0.486322   \n",
       "3      1.028377     -0.677683     0.209981 -0.977824         -0.318606   \n",
       "4      0.272575     -0.608066    -0.041831 -0.253884         -0.442024   \n",
       "\n",
       "   liveness  loudness  speechiness     tempo   valence  popularity       key  \\\n",
       "0  0.599432 -0.512596     0.728032  0.021651 -0.746399    0.167913 -0.117610   \n",
       "1  0.795479  0.091503     0.689574 -0.493081 -1.015894   -0.054812 -0.117610   \n",
       "2  0.870815 -0.688786     0.192440 -1.514176 -0.662454   -0.000125 -1.552078   \n",
       "3  0.512290 -0.759011     0.232813 -1.064985 -0.591872    0.007056 -1.552078   \n",
       "4  0.089150 -0.038620    -0.087711  0.194543 -0.235780    0.374012  1.603752   \n",
       "\n",
       "       mode     count  \n",
       "0  0.550901 -0.042949  \n",
       "1  0.550901  0.216955  \n",
       "2  0.550901 -0.135772  \n",
       "3  0.550901  0.235520  \n",
       "4  0.550901 -0.098643  "
      ]
     },
     "execution_count": 31,
     "metadata": {},
     "output_type": "execute_result"
    }
   ],
   "source": [
    "scaled_features_df.head()"
   ]
  },
  {
   "cell_type": "code",
   "execution_count": 64,
   "metadata": {},
   "outputs": [
    {
     "data": {
      "text/plain": [
       "acousticness        16143\n",
       "danceability        16143\n",
       "duration_ms         16143\n",
       "energy              16143\n",
       "instrumentalness    16143\n",
       "liveness            16143\n",
       "loudness            16143\n",
       "speechiness         16143\n",
       "tempo               16143\n",
       "valence             16143\n",
       "popularity          16143\n",
       "key                 16143\n",
       "mode                16143\n",
       "count               16143\n",
       "dtype: int64"
      ]
     },
     "execution_count": 64,
     "metadata": {},
     "output_type": "execute_result"
    }
   ],
   "source": [
    "scaled_features_df.sort_values(\"popularity\", ascending=False, inplace=True)\n",
    "scaled_features_df[scaled_features_df[\"popularity\"]>0].count()\n",
    "# print(scaled_features_df.shape)"
   ]
  },
  {
   "cell_type": "code",
   "execution_count": 65,
   "metadata": {},
   "outputs": [
    {
     "data": {
      "text/plain": [
       "Text(0.5, 1.0, 'Plot for top 1000 popular songs for all times')"
      ]
     },
     "execution_count": 65,
     "metadata": {},
     "output_type": "execute_result"
    },
    {
     "data": {
      "image/png": "[encoded data removed]",
      "text/plain": [
       "<Figure size 432x288 with 1 Axes>"
      ]
     },
     "metadata": {
      "needs_background": "light"
     },
     "output_type": "display_data"
    }
   ],
   "source": [
    "data_size = 1000\n",
    "sample = scaled_features_df.head(data_size)\n",
    "plt.scatter(sample.popularity.values, sample.danceability.values)\n",
    "plt.xlabel(\"Popularity\")\n",
    "plt.ylabel(\"Danceability\")\n",
    "plt.title(\"Plot for top {} popular songs for all times\".format(data_size))"
   ]
  },
  {
   "cell_type": "code",
   "execution_count": 71,
   "metadata": {},
   "outputs": [
    {
     "data": {
      "text/plain": [
       "Text(0.5, 1.0, 'Plot for top 1000 popular songs for all times')"
      ]
     },
     "execution_count": 71,
     "metadata": {},
     "output_type": "execute_result"
    },
    {
     "data": {
      "image/png": "[encoded data removed]",
      "text/plain": [
       "<Figure size 432x288 with 1 Axes>"
      ]
     },
     "metadata": {
      "needs_background": "light"
     },
     "output_type": "display_data"
    }
   ],
   "source": [
    "\n",
    "data_size = 1000\n",
    "sample = scaled_features_df.head(data_size)\n",
    "# print(sample[sample[\"acousticness\"]>0].count())\n",
    "plt.scatter(sample.popularity.values, sample.acousticness.values)\n",
    "plt.xlabel(\"Popularity\")\n",
    "plt.ylabel(\"Acousticness\")\n",
    "plt.title(\"Plot for top {} popular songs for all times\".format(data_size))"
   ]
  },
  {
   "cell_type": "code",
   "execution_count": 85,
   "metadata": {},
   "outputs": [
    {
     "data": {
      "text/plain": [
       "Text(0.5, 1.0, 'Plot for top 1000 popular songs for all times')"
      ]
     },
     "execution_count": 85,
     "metadata": {},
     "output_type": "execute_result"
    },
    {
     "data": {
      "image/png": "[encoded data removed]",
      "text/plain": [
       "<Figure size 432x288 with 1 Axes>"
      ]
     },
     "metadata": {
      "needs_background": "light"
     },
     "output_type": "display_data"
    }
   ],
   "source": [
    "\n",
    "data_size = 1000\n",
    "sample = scaled_features_df.head(data_size)\n",
    "# print(sample[sample[\"liveness\"]>0].count())\n",
    "plt.scatter(sample.popularity.values, sample.liveness.values)\n",
    "plt.xlabel(\"Popularity\")\n",
    "plt.ylabel(\"Liveness\")\n",
    "plt.title(\"Plot for top {} popular songs for all times\".format(data_size))"
   ]
  },
  {
   "cell_type": "code",
   "execution_count": 84,
   "metadata": {},
   "outputs": [
    {
     "data": {
      "text/plain": [
       "Text(0.5, 1.0, 'Relationship between Tempo and Popularity for 1000 most popular songs')"
      ]
     },
     "execution_count": 84,
     "metadata": {},
     "output_type": "execute_result"
    },
    {
     "data": {
      "image/png": "[encoded data removed]",
      "text/plain": [
       "<Figure size 432x288 with 1 Axes>"
      ]
     },
     "metadata": {
      "needs_background": "light"
     },
     "output_type": "display_data"
    }
   ],
   "source": [
    "data_size = 1000\n",
    "# sample = scaled_features_df.head(data_size)\n",
    "sample = artist_df_unique.head(data_size)\n",
    "plt.scatter(sample.popularity.values, sample.tempo.values)\n",
    "plt.xlabel(\"Popularity\")\n",
    "plt.ylabel(\"Tempo\")\n",
    "plt.title(\"Relationship between Tempo and Popularity for {} most popular songs\".format(data_size))\n",
    "# sample.mean()\n"
   ]
  },
  {
   "cell_type": "code",
   "execution_count": null,
   "metadata": {},
   "outputs": [],
   "source": []
  }
 ],
 "metadata": {
  "kernelspec": {
   "display_name": "Python 3",
   "language": "python",
   "name": "python3"
  },
  "language_info": {
   "codemirror_mode": {
    "name": "ipython",
    "version": 3
   },
   "file_extension": ".py",
   "mimetype": "text/x-python",
   "name": "python",
   "nbconvert_exporter": "python",
   "pygments_lexer": "ipython3",
   "version": "3.7.6"
  }
 },
 "nbformat": 4,
 "nbformat_minor": 4
}
